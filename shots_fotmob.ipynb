{
 "cells": [
  {
   "cell_type": "code",
   "execution_count": 1,
   "metadata": {},
   "outputs": [],
   "source": [
    "import requests\n",
    "import json\n",
    "from bs4 import BeautifulSoup as bs\n",
    "import pandas as pd\n",
    "import matplotlib.pyplot as plt\n",
    "from mplsoccer.pitch import Pitch, VerticalPitch"
   ]
  },
  {
   "cell_type": "code",
   "execution_count": 2,
   "metadata": {},
   "outputs": [
    {
     "data": {
      "text/plain": [
       "'https://www.fotmob.com/es/matches/man-city-vs-liverpool/2f48yd#4506416'"
      ]
     },
     "execution_count": 2,
     "metadata": {},
     "output_type": "execute_result"
    }
   ],
   "source": [
    "url_input = input('Enter URL match')\n",
    "url_input"
   ]
  },
  {
   "cell_type": "code",
   "execution_count": 3,
   "metadata": {},
   "outputs": [
    {
     "data": {
      "text/plain": [
       "'https://www.fotmob.com/es/matches/man-city-vs-liverpool/2f48yd#4506416'"
      ]
     },
     "execution_count": 3,
     "metadata": {},
     "output_type": "execute_result"
    }
   ],
   "source": [
    "# check URL\n",
    "url_input"
   ]
  },
  {
   "cell_type": "code",
   "execution_count": 4,
   "metadata": {},
   "outputs": [],
   "source": [
    "# FotMob\n",
    "\n",
    "url = url_input\n",
    "\n",
    "r = requests.get(url)\n",
    "\n",
    "soup = bs(r.content)\n",
    "\n",
    "soup.find('script', attrs={'id': '__NEXT_DATA__'})\n",
    "\n",
    "soup.find('script', attrs={'id': '__NEXT_DATA__'}).contents\n",
    "\n",
    "soup.find('script', attrs={'id': '__NEXT_DATA__'}).contents[0]\n",
    "\n",
    "json.loads(soup.find('script', attrs={'id': '__NEXT_DATA__'}).contents[0])\n",
    "\n",
    "json_fotmob = json.loads(soup.find('script', attrs={'id': '__NEXT_DATA__'}).contents[0])"
   ]
  },
  {
   "cell_type": "markdown",
   "metadata": {},
   "source": [
    "General info"
   ]
  },
  {
   "cell_type": "code",
   "execution_count": 5,
   "metadata": {},
   "outputs": [
    {
     "data": {
      "text/plain": [
       "(44, 56)"
      ]
     },
     "execution_count": 5,
     "metadata": {},
     "output_type": "execute_result"
    }
   ],
   "source": [
    "# ball possesion\n",
    "local_ball_possesion = json_fotmob['props']['pageProps']['content']['stats']['Periods']['All']['stats'][0]['stats'][0]['stats'][0]\n",
    "away_ball_possesion = json_fotmob['props']['pageProps']['content']['stats']['Periods']['All']['stats'][0]['stats'][0]['stats'][1]\n",
    "local_ball_possesion, away_ball_possesion"
   ]
  },
  {
   "cell_type": "code",
   "execution_count": 6,
   "metadata": {},
   "outputs": [
    {
     "data": {
      "text/plain": [
       "('3.57', '0.84')"
      ]
     },
     "execution_count": 6,
     "metadata": {},
     "output_type": "execute_result"
    }
   ],
   "source": [
    "# xG\n",
    "local_xG = json_fotmob['props']['pageProps']['content']['stats']['Periods']['All']['stats'][0]['stats'][1]['stats'][0]\n",
    "away_xG = json_fotmob['props']['pageProps']['content']['stats']['Periods']['All']['stats'][0]['stats'][1]['stats'][1]\n",
    "local_xG, away_xG"
   ]
  },
  {
   "cell_type": "code",
   "execution_count": 7,
   "metadata": {},
   "outputs": [
    {
     "data": {
      "text/plain": [
       "(18, 8)"
      ]
     },
     "execution_count": 7,
     "metadata": {},
     "output_type": "execute_result"
    }
   ],
   "source": [
    "# total shots\n",
    "local_total_shots = json_fotmob['props']['pageProps']['content']['stats']['Periods']['All']['stats'][0]['stats'][2]['stats'][0]\n",
    "away_total_shots = json_fotmob['props']['pageProps']['content']['stats']['Periods']['All']['stats'][0]['stats'][2]['stats'][1]\n",
    "local_total_shots, away_total_shots"
   ]
  },
  {
   "cell_type": "code",
   "execution_count": 8,
   "metadata": {},
   "outputs": [
    {
     "data": {
      "text/plain": [
       "(7, 2)"
      ]
     },
     "execution_count": 8,
     "metadata": {},
     "output_type": "execute_result"
    }
   ],
   "source": [
    "# shots on target\n",
    "local_shots_target = json_fotmob['props']['pageProps']['content']['stats']['Periods']['All']['stats'][0]['stats'][3]['stats'][0]\n",
    "away_shots_target = json_fotmob['props']['pageProps']['content']['stats']['Periods']['All']['stats'][0]['stats'][3]['stats'][1]\n",
    "local_shots_target, away_shots_target"
   ]
  },
  {
   "cell_type": "markdown",
   "metadata": {},
   "source": [
    "Shots"
   ]
  },
  {
   "cell_type": "code",
   "execution_count": 9,
   "metadata": {},
   "outputs": [
    {
     "data": {
      "text/html": [
       "<div>\n",
       "<style scoped>\n",
       "    .dataframe tbody tr th:only-of-type {\n",
       "        vertical-align: middle;\n",
       "    }\n",
       "\n",
       "    .dataframe tbody tr th {\n",
       "        vertical-align: top;\n",
       "    }\n",
       "\n",
       "    .dataframe thead th {\n",
       "        text-align: right;\n",
       "    }\n",
       "</style>\n",
       "<table border=\"1\" class=\"dataframe\">\n",
       "  <thead>\n",
       "    <tr style=\"text-align: right;\">\n",
       "      <th></th>\n",
       "      <th>id</th>\n",
       "      <th>eventType</th>\n",
       "      <th>teamId</th>\n",
       "      <th>playerId</th>\n",
       "      <th>playerName</th>\n",
       "      <th>x</th>\n",
       "      <th>y</th>\n",
       "      <th>min</th>\n",
       "      <th>minAdded</th>\n",
       "      <th>isBlocked</th>\n",
       "      <th>...</th>\n",
       "      <th>period</th>\n",
       "      <th>isOwnGoal</th>\n",
       "      <th>onGoalShot</th>\n",
       "      <th>isSavedOffLine</th>\n",
       "      <th>isFromInsideBox</th>\n",
       "      <th>keeperId</th>\n",
       "      <th>firstName</th>\n",
       "      <th>lastName</th>\n",
       "      <th>fullName</th>\n",
       "      <th>teamColor</th>\n",
       "    </tr>\n",
       "  </thead>\n",
       "  <tbody>\n",
       "    <tr>\n",
       "      <th>0</th>\n",
       "      <td>2754196667</td>\n",
       "      <td>AttemptSaved</td>\n",
       "      <td>8650</td>\n",
       "      <td>846005</td>\n",
       "      <td>Dominik Szoboszlai</td>\n",
       "      <td>91.000000</td>\n",
       "      <td>28.118810</td>\n",
       "      <td>7</td>\n",
       "      <td>NaN</td>\n",
       "      <td>False</td>\n",
       "      <td>...</td>\n",
       "      <td>FirstHalf</td>\n",
       "      <td>False</td>\n",
       "      <td>{'x': 0.8184523809523807, 'y': 0.0543581172486...</td>\n",
       "      <td>False</td>\n",
       "      <td>True</td>\n",
       "      <td>276729.0</td>\n",
       "      <td>Dominik</td>\n",
       "      <td>Szoboszlai</td>\n",
       "      <td>Dominik Szoboszlai</td>\n",
       "      <td>#911712</td>\n",
       "    </tr>\n",
       "    <tr>\n",
       "      <th>1</th>\n",
       "      <td>2754197931</td>\n",
       "      <td>AttemptSaved</td>\n",
       "      <td>8650</td>\n",
       "      <td>846005</td>\n",
       "      <td>Dominik Szoboszlai</td>\n",
       "      <td>83.498544</td>\n",
       "      <td>23.018344</td>\n",
       "      <td>8</td>\n",
       "      <td>NaN</td>\n",
       "      <td>True</td>\n",
       "      <td>...</td>\n",
       "      <td>FirstHalf</td>\n",
       "      <td>False</td>\n",
       "      <td>{'x': 0.49570105820105825, 'y': 0.322751321164...</td>\n",
       "      <td>False</td>\n",
       "      <td>False</td>\n",
       "      <td>NaN</td>\n",
       "      <td>Dominik</td>\n",
       "      <td>Szoboszlai</td>\n",
       "      <td>Dominik Szoboszlai</td>\n",
       "      <td>#911712</td>\n",
       "    </tr>\n",
       "    <tr>\n",
       "      <th>2</th>\n",
       "      <td>2754202009</td>\n",
       "      <td>AttemptSaved</td>\n",
       "      <td>8650</td>\n",
       "      <td>846005</td>\n",
       "      <td>Dominik Szoboszlai</td>\n",
       "      <td>82.372330</td>\n",
       "      <td>45.121783</td>\n",
       "      <td>11</td>\n",
       "      <td>NaN</td>\n",
       "      <td>False</td>\n",
       "      <td>...</td>\n",
       "      <td>FirstHalf</td>\n",
       "      <td>False</td>\n",
       "      <td>{'x': 0.8789682539682532, 'y': 0.1189083814814...</td>\n",
       "      <td>False</td>\n",
       "      <td>False</td>\n",
       "      <td>276729.0</td>\n",
       "      <td>Dominik</td>\n",
       "      <td>Szoboszlai</td>\n",
       "      <td>Dominik Szoboszlai</td>\n",
       "      <td>#911712</td>\n",
       "    </tr>\n",
       "    <tr>\n",
       "      <th>3</th>\n",
       "      <td>2754203159</td>\n",
       "      <td>AttemptSaved</td>\n",
       "      <td>8650</td>\n",
       "      <td>209405</td>\n",
       "      <td>Virgil van Dijk</td>\n",
       "      <td>101.017241</td>\n",
       "      <td>39.545000</td>\n",
       "      <td>11</td>\n",
       "      <td>NaN</td>\n",
       "      <td>False</td>\n",
       "      <td>...</td>\n",
       "      <td>FirstHalf</td>\n",
       "      <td>False</td>\n",
       "      <td>{'x': 1.7665343915343916, 'y': 0.3006683360317...</td>\n",
       "      <td>False</td>\n",
       "      <td>True</td>\n",
       "      <td>276729.0</td>\n",
       "      <td>Virgil</td>\n",
       "      <td>van Dijk</td>\n",
       "      <td>Virgil van Dijk</td>\n",
       "      <td>#911712</td>\n",
       "    </tr>\n",
       "    <tr>\n",
       "      <th>4</th>\n",
       "      <td>2754204211</td>\n",
       "      <td>Goal</td>\n",
       "      <td>8650</td>\n",
       "      <td>806552</td>\n",
       "      <td>Cody Gakpo</td>\n",
       "      <td>103.293103</td>\n",
       "      <td>35.601250</td>\n",
       "      <td>12</td>\n",
       "      <td>NaN</td>\n",
       "      <td>False</td>\n",
       "      <td>...</td>\n",
       "      <td>FirstHalf</td>\n",
       "      <td>False</td>\n",
       "      <td>{'x': 0.3544973544973533, 'y': 0.0645502642328...</td>\n",
       "      <td>False</td>\n",
       "      <td>True</td>\n",
       "      <td>276729.0</td>\n",
       "      <td>Cody</td>\n",
       "      <td>Gakpo</td>\n",
       "      <td>Cody Gakpo</td>\n",
       "      <td>#911712</td>\n",
       "    </tr>\n",
       "  </tbody>\n",
       "</table>\n",
       "<p>5 rows × 29 columns</p>\n",
       "</div>"
      ],
      "text/plain": [
       "           id     eventType  teamId  playerId          playerName           x  \\\n",
       "0  2754196667  AttemptSaved    8650    846005  Dominik Szoboszlai   91.000000   \n",
       "1  2754197931  AttemptSaved    8650    846005  Dominik Szoboszlai   83.498544   \n",
       "2  2754202009  AttemptSaved    8650    846005  Dominik Szoboszlai   82.372330   \n",
       "3  2754203159  AttemptSaved    8650    209405     Virgil van Dijk  101.017241   \n",
       "4  2754204211          Goal    8650    806552          Cody Gakpo  103.293103   \n",
       "\n",
       "           y  min  minAdded  isBlocked  ...     period  isOwnGoal  \\\n",
       "0  28.118810    7       NaN      False  ...  FirstHalf      False   \n",
       "1  23.018344    8       NaN       True  ...  FirstHalf      False   \n",
       "2  45.121783   11       NaN      False  ...  FirstHalf      False   \n",
       "3  39.545000   11       NaN      False  ...  FirstHalf      False   \n",
       "4  35.601250   12       NaN      False  ...  FirstHalf      False   \n",
       "\n",
       "                                          onGoalShot  isSavedOffLine  \\\n",
       "0  {'x': 0.8184523809523807, 'y': 0.0543581172486...           False   \n",
       "1  {'x': 0.49570105820105825, 'y': 0.322751321164...           False   \n",
       "2  {'x': 0.8789682539682532, 'y': 0.1189083814814...           False   \n",
       "3  {'x': 1.7665343915343916, 'y': 0.3006683360317...           False   \n",
       "4  {'x': 0.3544973544973533, 'y': 0.0645502642328...           False   \n",
       "\n",
       "   isFromInsideBox  keeperId  firstName    lastName            fullName  \\\n",
       "0             True  276729.0    Dominik  Szoboszlai  Dominik Szoboszlai   \n",
       "1            False       NaN    Dominik  Szoboszlai  Dominik Szoboszlai   \n",
       "2            False  276729.0    Dominik  Szoboszlai  Dominik Szoboszlai   \n",
       "3             True  276729.0     Virgil    van Dijk     Virgil van Dijk   \n",
       "4             True  276729.0       Cody       Gakpo          Cody Gakpo   \n",
       "\n",
       "  teamColor  \n",
       "0   #911712  \n",
       "1   #911712  \n",
       "2   #911712  \n",
       "3   #911712  \n",
       "4   #911712  \n",
       "\n",
       "[5 rows x 29 columns]"
      ]
     },
     "execution_count": 9,
     "metadata": {},
     "output_type": "execute_result"
    }
   ],
   "source": [
    "df_shots = pd.DataFrame(json_fotmob['props']['pageProps']['content']['shotmap']['shots'])\n",
    "df_shots.head()"
   ]
  },
  {
   "cell_type": "code",
   "execution_count": 10,
   "metadata": {},
   "outputs": [
    {
     "data": {
      "text/plain": [
       "(26, 29)"
      ]
     },
     "execution_count": 10,
     "metadata": {},
     "output_type": "execute_result"
    }
   ],
   "source": [
    "df_shots.shape"
   ]
  },
  {
   "cell_type": "code",
   "execution_count": 12,
   "metadata": {},
   "outputs": [
    {
     "data": {
      "text/html": [
       "<div>\n",
       "<style scoped>\n",
       "    .dataframe tbody tr th:only-of-type {\n",
       "        vertical-align: middle;\n",
       "    }\n",
       "\n",
       "    .dataframe tbody tr th {\n",
       "        vertical-align: top;\n",
       "    }\n",
       "\n",
       "    .dataframe thead th {\n",
       "        text-align: right;\n",
       "    }\n",
       "</style>\n",
       "<table border=\"1\" class=\"dataframe\">\n",
       "  <thead>\n",
       "    <tr style=\"text-align: right;\">\n",
       "      <th></th>\n",
       "      <th>eventType</th>\n",
       "      <th>expectedGoals</th>\n",
       "      <th>situation</th>\n",
       "      <th>isOwnGoal</th>\n",
       "    </tr>\n",
       "  </thead>\n",
       "  <tbody>\n",
       "    <tr>\n",
       "      <th>0</th>\n",
       "      <td>Miss</td>\n",
       "      <td>0.025060</td>\n",
       "      <td>RegularPlay</td>\n",
       "      <td>False</td>\n",
       "    </tr>\n",
       "    <tr>\n",
       "      <th>1</th>\n",
       "      <td>Miss</td>\n",
       "      <td>0.280919</td>\n",
       "      <td>RegularPlay</td>\n",
       "      <td>False</td>\n",
       "    </tr>\n",
       "    <tr>\n",
       "      <th>2</th>\n",
       "      <td>Miss</td>\n",
       "      <td>0.012404</td>\n",
       "      <td>RegularPlay</td>\n",
       "      <td>False</td>\n",
       "    </tr>\n",
       "    <tr>\n",
       "      <th>3</th>\n",
       "      <td>AttemptSaved</td>\n",
       "      <td>0.035189</td>\n",
       "      <td>RegularPlay</td>\n",
       "      <td>False</td>\n",
       "    </tr>\n",
       "    <tr>\n",
       "      <th>4</th>\n",
       "      <td>Miss</td>\n",
       "      <td>0.044398</td>\n",
       "      <td>SetPiece</td>\n",
       "      <td>False</td>\n",
       "    </tr>\n",
       "    <tr>\n",
       "      <th>5</th>\n",
       "      <td>Miss</td>\n",
       "      <td>0.024387</td>\n",
       "      <td>RegularPlay</td>\n",
       "      <td>False</td>\n",
       "    </tr>\n",
       "    <tr>\n",
       "      <th>6</th>\n",
       "      <td>AttemptSaved</td>\n",
       "      <td>0.026799</td>\n",
       "      <td>FromCorner</td>\n",
       "      <td>False</td>\n",
       "    </tr>\n",
       "    <tr>\n",
       "      <th>7</th>\n",
       "      <td>Miss</td>\n",
       "      <td>0.019334</td>\n",
       "      <td>FromCorner</td>\n",
       "      <td>False</td>\n",
       "    </tr>\n",
       "    <tr>\n",
       "      <th>8</th>\n",
       "      <td>Miss</td>\n",
       "      <td>0.019305</td>\n",
       "      <td>RegularPlay</td>\n",
       "      <td>False</td>\n",
       "    </tr>\n",
       "    <tr>\n",
       "      <th>9</th>\n",
       "      <td>AttemptSaved</td>\n",
       "      <td>0.030529</td>\n",
       "      <td>RegularPlay</td>\n",
       "      <td>False</td>\n",
       "    </tr>\n",
       "    <tr>\n",
       "      <th>10</th>\n",
       "      <td>Post</td>\n",
       "      <td>0.076437</td>\n",
       "      <td>FromCorner</td>\n",
       "      <td>False</td>\n",
       "    </tr>\n",
       "    <tr>\n",
       "      <th>11</th>\n",
       "      <td>Goal</td>\n",
       "      <td>0.728462</td>\n",
       "      <td>FromCorner</td>\n",
       "      <td>False</td>\n",
       "    </tr>\n",
       "    <tr>\n",
       "      <th>12</th>\n",
       "      <td>Miss</td>\n",
       "      <td>0.183337</td>\n",
       "      <td>FastBreak</td>\n",
       "      <td>False</td>\n",
       "    </tr>\n",
       "    <tr>\n",
       "      <th>13</th>\n",
       "      <td>Miss</td>\n",
       "      <td>0.024634</td>\n",
       "      <td>RegularPlay</td>\n",
       "      <td>False</td>\n",
       "    </tr>\n",
       "    <tr>\n",
       "      <th>14</th>\n",
       "      <td>AttemptSaved</td>\n",
       "      <td>0.039294</td>\n",
       "      <td>RegularPlay</td>\n",
       "      <td>False</td>\n",
       "    </tr>\n",
       "    <tr>\n",
       "      <th>15</th>\n",
       "      <td>Goal</td>\n",
       "      <td>0.590754</td>\n",
       "      <td>RegularPlay</td>\n",
       "      <td>False</td>\n",
       "    </tr>\n",
       "    <tr>\n",
       "      <th>16</th>\n",
       "      <td>AttemptSaved</td>\n",
       "      <td>0.101465</td>\n",
       "      <td>RegularPlay</td>\n",
       "      <td>False</td>\n",
       "    </tr>\n",
       "    <tr>\n",
       "      <th>17</th>\n",
       "      <td>Miss</td>\n",
       "      <td>0.026288</td>\n",
       "      <td>RegularPlay</td>\n",
       "      <td>False</td>\n",
       "    </tr>\n",
       "    <tr>\n",
       "      <th>18</th>\n",
       "      <td>Miss</td>\n",
       "      <td>0.031369</td>\n",
       "      <td>SetPiece</td>\n",
       "      <td>False</td>\n",
       "    </tr>\n",
       "    <tr>\n",
       "      <th>19</th>\n",
       "      <td>Miss</td>\n",
       "      <td>0.022127</td>\n",
       "      <td>SetPiece</td>\n",
       "      <td>False</td>\n",
       "    </tr>\n",
       "    <tr>\n",
       "      <th>20</th>\n",
       "      <td>Miss</td>\n",
       "      <td>0.394210</td>\n",
       "      <td>SetPiece</td>\n",
       "      <td>False</td>\n",
       "    </tr>\n",
       "    <tr>\n",
       "      <th>21</th>\n",
       "      <td>Miss</td>\n",
       "      <td>0.027967</td>\n",
       "      <td>RegularPlay</td>\n",
       "      <td>False</td>\n",
       "    </tr>\n",
       "    <tr>\n",
       "      <th>22</th>\n",
       "      <td>Goal</td>\n",
       "      <td>0.590799</td>\n",
       "      <td>RegularPlay</td>\n",
       "      <td>False</td>\n",
       "    </tr>\n",
       "    <tr>\n",
       "      <th>23</th>\n",
       "      <td>Miss</td>\n",
       "      <td>0.030135</td>\n",
       "      <td>RegularPlay</td>\n",
       "      <td>False</td>\n",
       "    </tr>\n",
       "    <tr>\n",
       "      <th>24</th>\n",
       "      <td>Goal</td>\n",
       "      <td>0.740838</td>\n",
       "      <td>RegularPlay</td>\n",
       "      <td>False</td>\n",
       "    </tr>\n",
       "    <tr>\n",
       "      <th>25</th>\n",
       "      <td>AttemptSaved</td>\n",
       "      <td>0.021303</td>\n",
       "      <td>RegularPlay</td>\n",
       "      <td>False</td>\n",
       "    </tr>\n",
       "    <tr>\n",
       "      <th>26</th>\n",
       "      <td>Goal</td>\n",
       "      <td>0.120905</td>\n",
       "      <td>FreeKick</td>\n",
       "      <td>False</td>\n",
       "    </tr>\n",
       "    <tr>\n",
       "      <th>27</th>\n",
       "      <td>AttemptSaved</td>\n",
       "      <td>0.029907</td>\n",
       "      <td>RegularPlay</td>\n",
       "      <td>False</td>\n",
       "    </tr>\n",
       "  </tbody>\n",
       "</table>\n",
       "</div>"
      ],
      "text/plain": [
       "       eventType  expectedGoals    situation  isOwnGoal\n",
       "0           Miss       0.025060  RegularPlay      False\n",
       "1           Miss       0.280919  RegularPlay      False\n",
       "2           Miss       0.012404  RegularPlay      False\n",
       "3   AttemptSaved       0.035189  RegularPlay      False\n",
       "4           Miss       0.044398     SetPiece      False\n",
       "5           Miss       0.024387  RegularPlay      False\n",
       "6   AttemptSaved       0.026799   FromCorner      False\n",
       "7           Miss       0.019334   FromCorner      False\n",
       "8           Miss       0.019305  RegularPlay      False\n",
       "9   AttemptSaved       0.030529  RegularPlay      False\n",
       "10          Post       0.076437   FromCorner      False\n",
       "11          Goal       0.728462   FromCorner      False\n",
       "12          Miss       0.183337    FastBreak      False\n",
       "13          Miss       0.024634  RegularPlay      False\n",
       "14  AttemptSaved       0.039294  RegularPlay      False\n",
       "15          Goal       0.590754  RegularPlay      False\n",
       "16  AttemptSaved       0.101465  RegularPlay      False\n",
       "17          Miss       0.026288  RegularPlay      False\n",
       "18          Miss       0.031369     SetPiece      False\n",
       "19          Miss       0.022127     SetPiece      False\n",
       "20          Miss       0.394210     SetPiece      False\n",
       "21          Miss       0.027967  RegularPlay      False\n",
       "22          Goal       0.590799  RegularPlay      False\n",
       "23          Miss       0.030135  RegularPlay      False\n",
       "24          Goal       0.740838  RegularPlay      False\n",
       "25  AttemptSaved       0.021303  RegularPlay      False\n",
       "26          Goal       0.120905     FreeKick      False\n",
       "27  AttemptSaved       0.029907  RegularPlay      False"
      ]
     },
     "execution_count": 12,
     "metadata": {},
     "output_type": "execute_result"
    }
   ],
   "source": [
    "# check if True in isOwnGoal\n",
    "df_shots[['eventType', 'expectedGoals', 'situation', 'isOwnGoal']]"
   ]
  },
  {
   "cell_type": "code",
   "execution_count": 13,
   "metadata": {},
   "outputs": [
    {
     "name": "stdout",
     "output_type": "stream",
     "text": [
      "False\n"
     ]
    }
   ],
   "source": [
    "# check if exists NaN in expectedGoals\n",
    "\n",
    "has_nan = df_shots['expectedGoals'].isna().any()\n",
    "print(has_nan)  # Returns True if there are NaN values, False otherwise\n",
    "\n",
    "# nan_count = df_shots['expectedGoals'].isna().sum()\n",
    "# print(nan_count)  # Returns the number of NaN values in the column\n",
    "\n",
    "# no_nan = df_shots['expectedGoals'].notna().all()\n",
    "# print(no_nan)  # Returns True if no NaN values are present\n",
    "\n",
    "# df_shots.info()"
   ]
  },
  {
   "cell_type": "code",
   "execution_count": 14,
   "metadata": {},
   "outputs": [
    {
     "data": {
      "text/html": [
       "<div>\n",
       "<style scoped>\n",
       "    .dataframe tbody tr th:only-of-type {\n",
       "        vertical-align: middle;\n",
       "    }\n",
       "\n",
       "    .dataframe tbody tr th {\n",
       "        vertical-align: top;\n",
       "    }\n",
       "\n",
       "    .dataframe thead th {\n",
       "        text-align: right;\n",
       "    }\n",
       "</style>\n",
       "<table border=\"1\" class=\"dataframe\">\n",
       "  <thead>\n",
       "    <tr style=\"text-align: right;\">\n",
       "      <th></th>\n",
       "      <th>eventType</th>\n",
       "      <th>expectedGoals</th>\n",
       "      <th>isOwnGoal</th>\n",
       "    </tr>\n",
       "  </thead>\n",
       "  <tbody>\n",
       "    <tr>\n",
       "      <th>0</th>\n",
       "      <td>Miss</td>\n",
       "      <td>0.025060</td>\n",
       "      <td>False</td>\n",
       "    </tr>\n",
       "    <tr>\n",
       "      <th>1</th>\n",
       "      <td>Miss</td>\n",
       "      <td>0.280919</td>\n",
       "      <td>False</td>\n",
       "    </tr>\n",
       "    <tr>\n",
       "      <th>2</th>\n",
       "      <td>Miss</td>\n",
       "      <td>0.012404</td>\n",
       "      <td>False</td>\n",
       "    </tr>\n",
       "    <tr>\n",
       "      <th>3</th>\n",
       "      <td>AttemptSaved</td>\n",
       "      <td>0.035189</td>\n",
       "      <td>False</td>\n",
       "    </tr>\n",
       "    <tr>\n",
       "      <th>4</th>\n",
       "      <td>Miss</td>\n",
       "      <td>0.044398</td>\n",
       "      <td>False</td>\n",
       "    </tr>\n",
       "    <tr>\n",
       "      <th>5</th>\n",
       "      <td>Miss</td>\n",
       "      <td>0.024387</td>\n",
       "      <td>False</td>\n",
       "    </tr>\n",
       "    <tr>\n",
       "      <th>6</th>\n",
       "      <td>AttemptSaved</td>\n",
       "      <td>0.026799</td>\n",
       "      <td>False</td>\n",
       "    </tr>\n",
       "    <tr>\n",
       "      <th>7</th>\n",
       "      <td>Miss</td>\n",
       "      <td>0.019334</td>\n",
       "      <td>False</td>\n",
       "    </tr>\n",
       "    <tr>\n",
       "      <th>8</th>\n",
       "      <td>Miss</td>\n",
       "      <td>0.019305</td>\n",
       "      <td>False</td>\n",
       "    </tr>\n",
       "    <tr>\n",
       "      <th>9</th>\n",
       "      <td>AttemptSaved</td>\n",
       "      <td>0.030529</td>\n",
       "      <td>False</td>\n",
       "    </tr>\n",
       "    <tr>\n",
       "      <th>10</th>\n",
       "      <td>Post</td>\n",
       "      <td>0.076437</td>\n",
       "      <td>False</td>\n",
       "    </tr>\n",
       "    <tr>\n",
       "      <th>11</th>\n",
       "      <td>Goal</td>\n",
       "      <td>0.728462</td>\n",
       "      <td>False</td>\n",
       "    </tr>\n",
       "    <tr>\n",
       "      <th>12</th>\n",
       "      <td>Miss</td>\n",
       "      <td>0.183337</td>\n",
       "      <td>False</td>\n",
       "    </tr>\n",
       "    <tr>\n",
       "      <th>13</th>\n",
       "      <td>Miss</td>\n",
       "      <td>0.024634</td>\n",
       "      <td>False</td>\n",
       "    </tr>\n",
       "    <tr>\n",
       "      <th>14</th>\n",
       "      <td>AttemptSaved</td>\n",
       "      <td>0.039294</td>\n",
       "      <td>False</td>\n",
       "    </tr>\n",
       "    <tr>\n",
       "      <th>15</th>\n",
       "      <td>Goal</td>\n",
       "      <td>0.590754</td>\n",
       "      <td>False</td>\n",
       "    </tr>\n",
       "    <tr>\n",
       "      <th>16</th>\n",
       "      <td>AttemptSaved</td>\n",
       "      <td>0.101465</td>\n",
       "      <td>False</td>\n",
       "    </tr>\n",
       "    <tr>\n",
       "      <th>17</th>\n",
       "      <td>Miss</td>\n",
       "      <td>0.026288</td>\n",
       "      <td>False</td>\n",
       "    </tr>\n",
       "    <tr>\n",
       "      <th>18</th>\n",
       "      <td>Miss</td>\n",
       "      <td>0.031369</td>\n",
       "      <td>False</td>\n",
       "    </tr>\n",
       "    <tr>\n",
       "      <th>19</th>\n",
       "      <td>Miss</td>\n",
       "      <td>0.022127</td>\n",
       "      <td>False</td>\n",
       "    </tr>\n",
       "    <tr>\n",
       "      <th>20</th>\n",
       "      <td>Miss</td>\n",
       "      <td>0.394210</td>\n",
       "      <td>False</td>\n",
       "    </tr>\n",
       "    <tr>\n",
       "      <th>21</th>\n",
       "      <td>Miss</td>\n",
       "      <td>0.027967</td>\n",
       "      <td>False</td>\n",
       "    </tr>\n",
       "    <tr>\n",
       "      <th>22</th>\n",
       "      <td>Goal</td>\n",
       "      <td>0.590799</td>\n",
       "      <td>False</td>\n",
       "    </tr>\n",
       "    <tr>\n",
       "      <th>23</th>\n",
       "      <td>Miss</td>\n",
       "      <td>0.030135</td>\n",
       "      <td>False</td>\n",
       "    </tr>\n",
       "    <tr>\n",
       "      <th>24</th>\n",
       "      <td>Goal</td>\n",
       "      <td>0.740838</td>\n",
       "      <td>False</td>\n",
       "    </tr>\n",
       "    <tr>\n",
       "      <th>25</th>\n",
       "      <td>AttemptSaved</td>\n",
       "      <td>0.021303</td>\n",
       "      <td>False</td>\n",
       "    </tr>\n",
       "    <tr>\n",
       "      <th>26</th>\n",
       "      <td>Goal</td>\n",
       "      <td>0.120905</td>\n",
       "      <td>False</td>\n",
       "    </tr>\n",
       "    <tr>\n",
       "      <th>27</th>\n",
       "      <td>AttemptSaved</td>\n",
       "      <td>0.029907</td>\n",
       "      <td>False</td>\n",
       "    </tr>\n",
       "  </tbody>\n",
       "</table>\n",
       "</div>"
      ],
      "text/plain": [
       "       eventType  expectedGoals  isOwnGoal\n",
       "0           Miss       0.025060      False\n",
       "1           Miss       0.280919      False\n",
       "2           Miss       0.012404      False\n",
       "3   AttemptSaved       0.035189      False\n",
       "4           Miss       0.044398      False\n",
       "5           Miss       0.024387      False\n",
       "6   AttemptSaved       0.026799      False\n",
       "7           Miss       0.019334      False\n",
       "8           Miss       0.019305      False\n",
       "9   AttemptSaved       0.030529      False\n",
       "10          Post       0.076437      False\n",
       "11          Goal       0.728462      False\n",
       "12          Miss       0.183337      False\n",
       "13          Miss       0.024634      False\n",
       "14  AttemptSaved       0.039294      False\n",
       "15          Goal       0.590754      False\n",
       "16  AttemptSaved       0.101465      False\n",
       "17          Miss       0.026288      False\n",
       "18          Miss       0.031369      False\n",
       "19          Miss       0.022127      False\n",
       "20          Miss       0.394210      False\n",
       "21          Miss       0.027967      False\n",
       "22          Goal       0.590799      False\n",
       "23          Miss       0.030135      False\n",
       "24          Goal       0.740838      False\n",
       "25  AttemptSaved       0.021303      False\n",
       "26          Goal       0.120905      False\n",
       "27  AttemptSaved       0.029907      False"
      ]
     },
     "execution_count": 14,
     "metadata": {},
     "output_type": "execute_result"
    }
   ],
   "source": [
    "df_shots[['eventType', 'expectedGoals', 'isOwnGoal']]"
   ]
  },
  {
   "cell_type": "code",
   "execution_count": 15,
   "metadata": {},
   "outputs": [
    {
     "data": {
      "text/plain": [
       "0     0.025060\n",
       "1     0.280919\n",
       "2     0.012404\n",
       "3     0.035189\n",
       "4     0.044398\n",
       "5     0.024387\n",
       "6     0.026799\n",
       "7     0.019334\n",
       "8     0.019305\n",
       "9     0.030529\n",
       "10    0.076437\n",
       "11    0.728462\n",
       "12    0.183337\n",
       "13    0.024634\n",
       "14    0.039294\n",
       "15    0.590754\n",
       "16    0.101465\n",
       "17    0.026288\n",
       "18    0.031369\n",
       "19    0.022127\n",
       "20    0.394210\n",
       "21    0.027967\n",
       "22    0.590799\n",
       "23    0.030135\n",
       "24    0.740838\n",
       "25    0.021303\n",
       "26    0.120905\n",
       "27    0.029907\n",
       "Name: expectedGoals, dtype: float64"
      ]
     },
     "execution_count": 15,
     "metadata": {},
     "output_type": "execute_result"
    }
   ],
   "source": [
    "# If you want to convert it to a LIST add .tolist()\n",
    "\n",
    "# xG = df_shots['expectedGoals']\n",
    "# xG_list = xG.tolist()\n",
    "# xG_list\n",
    "\n",
    "# xG=df_shots.expectedGoals\n",
    "# xG\n",
    "\n",
    "# xG_loc = df_shots.loc[:, 'expectedGoals']\n",
    "# xG_loc\n",
    "\n",
    "xG_get = df_shots.get('expectedGoals')\n",
    "xG_get\n",
    "\n",
    "# Using .iloc[]: If you know the position of the name column (e.g., if it's the first column):\n",
    "# column_position = df_shots.columns.get_loc('expectedGoals')\n",
    "\n",
    "# column_position\n",
    "# xG_iloc = df_shots.iloc[:, 15]\n",
    "# xG_iloc"
   ]
  },
  {
   "cell_type": "code",
   "execution_count": null,
   "metadata": {},
   "outputs": [],
   "source": [
    "# Replace NaN with 0\n",
    "\n",
    "# df_shots['expectedGoals'].fillna(0, inplace=True)\n",
    "\n",
    "# Replace with the mean of the column:\n",
    "# df_shots['expectedGoals'].fillna(df_shots['expectedGoals'].mean(), inplace=True)\n",
    "\n",
    "# Replace with the median of the column:\n",
    "df_shots['expectedGoals'].fillna(df_shots['expectedGoals'].median(), inplace=True)\n"
   ]
  },
  {
   "cell_type": "code",
   "execution_count": 11,
   "metadata": {},
   "outputs": [
    {
     "data": {
      "text/plain": [
       "8650"
      ]
     },
     "execution_count": 11,
     "metadata": {},
     "output_type": "execute_result"
    }
   ],
   "source": [
    "# get local team id\n",
    "\n",
    "local_team_id = json_fotmob['props']['pageProps']['general']['homeTeam']['id']\n",
    "local_team_id"
   ]
  },
  {
   "cell_type": "code",
   "execution_count": 12,
   "metadata": {},
   "outputs": [
    {
     "data": {
      "text/plain": [
       "{'matchId': '4506416',\n",
       " 'matchName': 'Liverpool-vs-Manchester City_Sun, Dec 1, 2024, 16:00 UTC',\n",
       " 'matchRound': '13',\n",
       " 'teamColors': {'darkMode': {'home': '#911712', 'away': '#76b4e5'},\n",
       "  'lightMode': {'home': '#911712', 'away': '#69A8D8'},\n",
       "  'fontDarkMode': {'home': 'rgba(255, 255, 255, 1.0)',\n",
       "   'away': 'rgba(29, 29, 29, 1.0)'},\n",
       "  'fontLightMode': {'home': 'rgba(255, 255, 255, 1.0)',\n",
       "   'away': 'rgba(255, 255, 255, 1.0)'}},\n",
       " 'leagueId': 47,\n",
       " 'leagueName': 'Premier League',\n",
       " 'leagueRoundName': 'Round 13',\n",
       " 'parentLeagueId': 47,\n",
       " 'countryCode': 'ENG',\n",
       " 'parentLeagueName': 'Premier League',\n",
       " 'parentLeagueSeason': '2024/2025',\n",
       " 'parentLeagueTopScorerLink': 'https://data.fotmob.com/stats/47/season/23685/goals.json',\n",
       " 'parentLeagueTournamentId': 23685,\n",
       " 'homeTeam': {'name': 'Liverpool', 'id': 8650},\n",
       " 'awayTeam': {'name': 'Manchester City', 'id': 8456},\n",
       " 'coverageLevel': 'xG',\n",
       " 'matchTimeUTC': 'Sun, Dec 1, 2024, 16:00 UTC',\n",
       " 'matchTimeUTCDate': '2024-12-01T16:00:00.000Z',\n",
       " 'started': True,\n",
       " 'finished': True}"
      ]
     },
     "execution_count": 12,
     "metadata": {},
     "output_type": "execute_result"
    }
   ],
   "source": [
    "# get general data\n",
    "\n",
    "json_fotmob['props']['pageProps']['general']"
   ]
  },
  {
   "cell_type": "code",
   "execution_count": 13,
   "metadata": {},
   "outputs": [
    {
     "name": "stdout",
     "output_type": "stream",
     "text": [
      "Premier League\n",
      "Round 13\n"
     ]
    }
   ],
   "source": [
    "# get league name and league round for the viz\n",
    "\n",
    "leagueName = json_fotmob['props']['pageProps']['general']['leagueName']\n",
    "print(leagueName)\n",
    "leagueRound = json_fotmob['props']['pageProps']['general']['leagueRoundName']\n",
    "print(leagueRound)"
   ]
  },
  {
   "cell_type": "code",
   "execution_count": 14,
   "metadata": {},
   "outputs": [
    {
     "data": {
      "text/plain": [
       "'Premier League | Round 13'"
      ]
     },
     "execution_count": 14,
     "metadata": {},
     "output_type": "execute_result"
    }
   ],
   "source": [
    "league_title = leagueName + ' | ' + leagueRound\n",
    "league_title"
   ]
  },
  {
   "cell_type": "code",
   "execution_count": 15,
   "metadata": {},
   "outputs": [
    {
     "data": {
      "text/plain": [
       "[{'name': 'Liverpool',\n",
       "  'id': 8650,\n",
       "  'score': 2,\n",
       "  'imageUrl': 'https://images.fotmob.com/image_resources/logo/teamlogo/8650_small.png',\n",
       "  'pageUrl': '/teams/8650/overview/liverpool',\n",
       "  'fifaRank': None},\n",
       " {'name': 'Manchester City',\n",
       "  'id': 8456,\n",
       "  'score': 0,\n",
       "  'imageUrl': 'https://images.fotmob.com/image_resources/logo/teamlogo/8456_small.png',\n",
       "  'pageUrl': '/teams/8456/overview/manchester-city',\n",
       "  'fifaRank': None}]"
      ]
     },
     "execution_count": 15,
     "metadata": {},
     "output_type": "execute_result"
    }
   ],
   "source": [
    "# local team info and away team info\n",
    "\n",
    "json_fotmob['props']['pageProps']['header']['teams']"
   ]
  },
  {
   "cell_type": "code",
   "execution_count": 16,
   "metadata": {},
   "outputs": [
    {
     "name": "stdout",
     "output_type": "stream",
     "text": [
      "Liverpool\n",
      "Manchester City\n"
     ]
    }
   ],
   "source": [
    "# Get ID and team names\n",
    "\n",
    "local_team_name = json_fotmob['props']['pageProps']['header']['teams'][0]['name']\n",
    "print(local_team_name)\n",
    "away_team_name = json_fotmob['props']['pageProps']['header']['teams'][1]['name']\n",
    "print(away_team_name)"
   ]
  },
  {
   "cell_type": "code",
   "execution_count": 17,
   "metadata": {},
   "outputs": [
    {
     "name": "stdout",
     "output_type": "stream",
     "text": [
      "2\n",
      "0\n"
     ]
    }
   ],
   "source": [
    "# score\n",
    "\n",
    "local_team_score = json_fotmob['props']['pageProps']['header']['teams'][0]['score']\n",
    "print(local_team_score)\n",
    "away_team_score = json_fotmob['props']['pageProps']['header']['teams'][1]['score']\n",
    "print(away_team_score)"
   ]
  },
  {
   "cell_type": "code",
   "execution_count": 18,
   "metadata": {},
   "outputs": [
    {
     "data": {
      "text/plain": [
       "'Liverpool 2-0 Manchester City'"
      ]
     },
     "execution_count": 18,
     "metadata": {},
     "output_type": "execute_result"
    }
   ],
   "source": [
    "# title for the viz\n",
    "\n",
    "plot_title = local_team_name + ' ' + str(local_team_score) + '-' + str(away_team_score) + ' ' + away_team_name\n",
    "plot_title"
   ]
  },
  {
   "cell_type": "code",
   "execution_count": 19,
   "metadata": {},
   "outputs": [
    {
     "data": {
      "text/plain": [
       "{'darkMode': {'home': '#911712', 'away': '#76b4e5'},\n",
       " 'lightMode': {'home': '#911712', 'away': '#69A8D8'},\n",
       " 'fontDarkMode': {'home': 'rgba(255, 255, 255, 1.0)',\n",
       "  'away': 'rgba(29, 29, 29, 1.0)'},\n",
       " 'fontLightMode': {'home': 'rgba(255, 255, 255, 1.0)',\n",
       "  'away': 'rgba(255, 255, 255, 1.0)'}}"
      ]
     },
     "execution_count": 19,
     "metadata": {},
     "output_type": "execute_result"
    }
   ],
   "source": [
    "# Get color teams\n",
    "\n",
    "json_fotmob['props']['pageProps']['general']['teamColors']"
   ]
  },
  {
   "cell_type": "code",
   "execution_count": 20,
   "metadata": {},
   "outputs": [
    {
     "name": "stdout",
     "output_type": "stream",
     "text": [
      "LIVERPOOL SHOTS\n",
      "MANCHESTER CITY SHOTS\n"
     ]
    }
   ],
   "source": [
    "# local and away team names for the viz\n",
    "\n",
    "shots_local_name = local_team_name + ' ' + 'shots'\n",
    "shots_local_name = shots_local_name.upper()\n",
    "print(shots_local_name)\n",
    "\n",
    "shots_away_name = away_team_name + ' ' + 'shots'\n",
    "shots_away_name = shots_away_name.upper()\n",
    "print(shots_away_name)"
   ]
  },
  {
   "cell_type": "code",
   "execution_count": 26,
   "metadata": {},
   "outputs": [
    {
     "data": {
      "text/plain": [
       "str"
      ]
     },
     "execution_count": 26,
     "metadata": {},
     "output_type": "execute_result"
    }
   ],
   "source": [
    "# check type isOwnGoal | looks like a boolean\n",
    "\n",
    "type('isOwnGoal')"
   ]
  },
  {
   "cell_type": "code",
   "execution_count": 40,
   "metadata": {},
   "outputs": [
    {
     "data": {
      "text/plain": [
       "Index(['id', 'eventType', 'teamId', 'playerId', 'playerName', 'x', 'y', 'min',\n",
       "       'minAdded', 'isBlocked', 'isOnTarget', 'blockedX', 'blockedY',\n",
       "       'goalCrossedY', 'goalCrossedZ', 'expectedGoals',\n",
       "       'expectedGoalsOnTarget', 'shotType', 'situation', 'period', 'isOwnGoal',\n",
       "       'onGoalShot', 'isSavedOffLine', 'isFromInsideBox', 'keeperId',\n",
       "       'firstName', 'lastName', 'fullName', 'teamColor'],\n",
       "      dtype='object')"
      ]
     },
     "execution_count": 40,
     "metadata": {},
     "output_type": "execute_result"
    }
   ],
   "source": [
    "df_shots.columns"
   ]
  },
  {
   "cell_type": "code",
   "execution_count": 21,
   "metadata": {},
   "outputs": [
    {
     "data": {
      "text/html": [
       "<div>\n",
       "<style scoped>\n",
       "    .dataframe tbody tr th:only-of-type {\n",
       "        vertical-align: middle;\n",
       "    }\n",
       "\n",
       "    .dataframe tbody tr th {\n",
       "        vertical-align: top;\n",
       "    }\n",
       "\n",
       "    .dataframe thead th {\n",
       "        text-align: right;\n",
       "    }\n",
       "</style>\n",
       "<table border=\"1\" class=\"dataframe\">\n",
       "  <thead>\n",
       "    <tr style=\"text-align: right;\">\n",
       "      <th></th>\n",
       "      <th>keeperId</th>\n",
       "      <th>eventType</th>\n",
       "    </tr>\n",
       "  </thead>\n",
       "  <tbody>\n",
       "    <tr>\n",
       "      <th>0</th>\n",
       "      <td>276729.0</td>\n",
       "      <td>AttemptSaved</td>\n",
       "    </tr>\n",
       "    <tr>\n",
       "      <th>1</th>\n",
       "      <td>NaN</td>\n",
       "      <td>AttemptSaved</td>\n",
       "    </tr>\n",
       "    <tr>\n",
       "      <th>2</th>\n",
       "      <td>276729.0</td>\n",
       "      <td>AttemptSaved</td>\n",
       "    </tr>\n",
       "    <tr>\n",
       "      <th>3</th>\n",
       "      <td>276729.0</td>\n",
       "      <td>AttemptSaved</td>\n",
       "    </tr>\n",
       "    <tr>\n",
       "      <th>4</th>\n",
       "      <td>276729.0</td>\n",
       "      <td>Goal</td>\n",
       "    </tr>\n",
       "    <tr>\n",
       "      <th>5</th>\n",
       "      <td>NaN</td>\n",
       "      <td>Miss</td>\n",
       "    </tr>\n",
       "    <tr>\n",
       "      <th>6</th>\n",
       "      <td>NaN</td>\n",
       "      <td>Miss</td>\n",
       "    </tr>\n",
       "    <tr>\n",
       "      <th>7</th>\n",
       "      <td>NaN</td>\n",
       "      <td>AttemptSaved</td>\n",
       "    </tr>\n",
       "    <tr>\n",
       "      <th>8</th>\n",
       "      <td>NaN</td>\n",
       "      <td>Post</td>\n",
       "    </tr>\n",
       "    <tr>\n",
       "      <th>9</th>\n",
       "      <td>NaN</td>\n",
       "      <td>Miss</td>\n",
       "    </tr>\n",
       "    <tr>\n",
       "      <th>10</th>\n",
       "      <td>NaN</td>\n",
       "      <td>Miss</td>\n",
       "    </tr>\n",
       "    <tr>\n",
       "      <th>11</th>\n",
       "      <td>NaN</td>\n",
       "      <td>AttemptSaved</td>\n",
       "    </tr>\n",
       "    <tr>\n",
       "      <th>12</th>\n",
       "      <td>NaN</td>\n",
       "      <td>Miss</td>\n",
       "    </tr>\n",
       "    <tr>\n",
       "      <th>13</th>\n",
       "      <td>NaN</td>\n",
       "      <td>Miss</td>\n",
       "    </tr>\n",
       "    <tr>\n",
       "      <th>14</th>\n",
       "      <td>NaN</td>\n",
       "      <td>Miss</td>\n",
       "    </tr>\n",
       "    <tr>\n",
       "      <th>15</th>\n",
       "      <td>NaN</td>\n",
       "      <td>AttemptSaved</td>\n",
       "    </tr>\n",
       "    <tr>\n",
       "      <th>16</th>\n",
       "      <td>NaN</td>\n",
       "      <td>AttemptSaved</td>\n",
       "    </tr>\n",
       "    <tr>\n",
       "      <th>17</th>\n",
       "      <td>NaN</td>\n",
       "      <td>Miss</td>\n",
       "    </tr>\n",
       "    <tr>\n",
       "      <th>18</th>\n",
       "      <td>276729.0</td>\n",
       "      <td>AttemptSaved</td>\n",
       "    </tr>\n",
       "    <tr>\n",
       "      <th>19</th>\n",
       "      <td>276729.0</td>\n",
       "      <td>Goal</td>\n",
       "    </tr>\n",
       "    <tr>\n",
       "      <th>20</th>\n",
       "      <td>776689.0</td>\n",
       "      <td>Miss</td>\n",
       "    </tr>\n",
       "    <tr>\n",
       "      <th>21</th>\n",
       "      <td>776689.0</td>\n",
       "      <td>AttemptSaved</td>\n",
       "    </tr>\n",
       "    <tr>\n",
       "      <th>22</th>\n",
       "      <td>776689.0</td>\n",
       "      <td>AttemptSaved</td>\n",
       "    </tr>\n",
       "    <tr>\n",
       "      <th>23</th>\n",
       "      <td>276729.0</td>\n",
       "      <td>AttemptSaved</td>\n",
       "    </tr>\n",
       "    <tr>\n",
       "      <th>24</th>\n",
       "      <td>NaN</td>\n",
       "      <td>AttemptSaved</td>\n",
       "    </tr>\n",
       "    <tr>\n",
       "      <th>25</th>\n",
       "      <td>NaN</td>\n",
       "      <td>AttemptSaved</td>\n",
       "    </tr>\n",
       "  </tbody>\n",
       "</table>\n",
       "</div>"
      ],
      "text/plain": [
       "    keeperId     eventType\n",
       "0   276729.0  AttemptSaved\n",
       "1        NaN  AttemptSaved\n",
       "2   276729.0  AttemptSaved\n",
       "3   276729.0  AttemptSaved\n",
       "4   276729.0          Goal\n",
       "5        NaN          Miss\n",
       "6        NaN          Miss\n",
       "7        NaN  AttemptSaved\n",
       "8        NaN          Post\n",
       "9        NaN          Miss\n",
       "10       NaN          Miss\n",
       "11       NaN  AttemptSaved\n",
       "12       NaN          Miss\n",
       "13       NaN          Miss\n",
       "14       NaN          Miss\n",
       "15       NaN  AttemptSaved\n",
       "16       NaN  AttemptSaved\n",
       "17       NaN          Miss\n",
       "18  276729.0  AttemptSaved\n",
       "19  276729.0          Goal\n",
       "20  776689.0          Miss\n",
       "21  776689.0  AttemptSaved\n",
       "22  776689.0  AttemptSaved\n",
       "23  276729.0  AttemptSaved\n",
       "24       NaN  AttemptSaved\n",
       "25       NaN  AttemptSaved"
      ]
     },
     "execution_count": 21,
     "metadata": {},
     "output_type": "execute_result"
    }
   ],
   "source": [
    "# keeperId\n",
    "\n",
    "df_shots[['keeperId', 'eventType']]"
   ]
  },
  {
   "cell_type": "code",
   "execution_count": 29,
   "metadata": {},
   "outputs": [
    {
     "data": {
      "text/plain": [
       "str"
      ]
     },
     "execution_count": 29,
     "metadata": {},
     "output_type": "execute_result"
    }
   ],
   "source": [
    "type('isOwnGoal')"
   ]
  },
  {
   "cell_type": "code",
   "execution_count": 22,
   "metadata": {},
   "outputs": [],
   "source": [
    "# Font -> Fonts are tricky since they have their \"brand fonts\" so we'll just use something similar\n",
    "import matplotlib.font_manager as font_manager\n",
    "font_path = '/home/axel/Code/Python/axel/files/fonts/Arvo/Arvo-Regular.ttf'\n",
    "# Create a font properties object with the font file\n",
    "font_props = font_manager.FontProperties(fname=font_path)"
   ]
  },
  {
   "cell_type": "code",
   "execution_count": 23,
   "metadata": {},
   "outputs": [],
   "source": [
    "home_color = json_fotmob['props']['pageProps']['general']['teamColors']['darkMode']['home']\n",
    "away_color = json_fotmob['props']['pageProps']['general']['teamColors']['darkMode']['away']"
   ]
  },
  {
   "cell_type": "code",
   "execution_count": 25,
   "metadata": {},
   "outputs": [
    {
     "data": {
      "image/png": "[encoded data removed]",
      "text/plain": [
       "<Figure size 1600x1200 with 1 Axes>"
      ]
     },
     "metadata": {},
     "output_type": "display_data"
    }
   ],
   "source": [
    "# add facecolor='red' if you want the color red around the pitch\n",
    "fig, ax = plt.subplots(figsize=(16, 12))\n",
    "pitch = Pitch(pitch_type='custom', pitch_length=105, pitch_width=68, line_color='black', linewidth=1, pitch_color='white', label=False)\n",
    "pitch.draw(ax=ax)\n",
    "\n",
    "# plot the shots\n",
    "# We want the size of the shot to be 500 * the expected goals value\n",
    "# We also want to leave the marker empty if the shot was missed and fill it if it was a goal\n",
    "for x in df_shots.to_dict(orient='records'):\n",
    "    if x['teamId'] == local_team_id:\n",
    "        # We want to plot the local team on left side of the pitch\n",
    "        # So we need to mirror both the x and y coordinates\n",
    "        c_color = (\n",
    "            'green' if x['eventType'] == 'Goal' and str(x['isOwnGoal']) == 'False'\n",
    "            else 'red' if x['eventType'] == 'Goal' and str(x['isOwnGoal']) == 'True'\n",
    "            else 'white'\n",
    "        ),\n",
    "        ec_edge_colors = (\n",
    "            'green' if x['eventType'] == 'Goal' and str(x['isOwnGoal']) == 'False'\n",
    "            else 'red' if x['eventType'] == 'Goal' and str(x['isOwnGoal']) == 'True'\n",
    "            else 'purple'\n",
    "        ),\n",
    "        m_marker = (\n",
    "            '*' if x['situation'] == 'Penalty' and x['eventType'] == 'Goal'\n",
    "            else 'o'\n",
    "        )\n",
    "        pitch.scatter(\n",
    "            x=105-x['x'],\n",
    "            y=68-x['y'],\n",
    "            ax=ax,\n",
    "            s=500*x['expectedGoals'],\n",
    "            ec=ec_edge_colors,\n",
    "            c=c_color,\n",
    "            marker=m_marker,\n",
    "            alpha=1 if x['eventType'] == 'Goal' else 0.5,\n",
    "            zorder=2 if x['eventType'] == 'Goal' else 1\n",
    "        )\n",
    "    # right side\n",
    "    else:\n",
    "        c_color = (\n",
    "            'green' if x['eventType'] == 'Goal' and str(x['isOwnGoal']) == 'False'\n",
    "            else 'red' if x['eventType'] == 'Goal' and str(x['isOwnGoal']) == 'True'\n",
    "            else 'white'\n",
    "        ),\n",
    "        ec_edge_colors = (\n",
    "            'green' if x['eventType'] == 'Goal' and str(x['isOwnGoal']) == 'False'\n",
    "            else 'red' if x['eventType'] == 'Goal' and str(x['isOwnGoal']) == 'True'\n",
    "            else 'purple'\n",
    "        ),\n",
    "        m_marker = (\n",
    "            '*' if x['situation'] == 'Penalty' and x['eventType'] == 'Goal'\n",
    "            else 'o'\n",
    "        )\n",
    "        pitch.scatter(\n",
    "            x=x['x'],\n",
    "            y=x['y'],\n",
    "            ax=ax,\n",
    "            s=500*x['expectedGoals'],\n",
    "            ec=ec_edge_colors,\n",
    "            c=c_color,\n",
    "            marker=m_marker,\n",
    "            alpha=1 if x['eventType'] == 'Goal' else 0.5,\n",
    "            zorder=2 if x['eventType'] == 'Goal' else 1,\n",
    "        )\n",
    "\n",
    "# fig.suptitle('The Strongest - Bolivar',  fontsize=15, fontweight=600)\n",
    "# plt.title('Title', x=0.1, y=1)\n",
    "# ax.set_title('División Profesional', x=0.1, y=0.95, fontsize=10, fontweight=600, color='black', loc='left')\n",
    "\n",
    "# We can also add a title directly above the text we added\n",
    "ax.text(-2, 73, plot_title, ha='left', fontsize=28, fontfamily='serif', fontweight=600, color='black')\n",
    "ax.text(-2, 70, league_title, ha='left', fontsize=18, fontfamily='serif', fontweight=100)\n",
    "\n",
    "# We can add a title above the different halves of the pitch\n",
    "ax.text(2, 2, shots_local_name, ha='left', fontsize=20, fontweight=500, color='#abb2b9')\n",
    "ax.text(103, 2, shots_away_name, ha='right', fontsize=20, fontweight=500, color='#abb2b9')\n",
    "\n",
    "# Lets also add a legend for the size of the shots in the bottom middle of the pitch\n",
    "pitch.scatter(49.5, 3, s=500*.05, ec='black', c='white', ax=ax)\n",
    "pitch.scatter(52.5, 3, s=500*.15, ec='black', c='white', ax=ax)\n",
    "pitch.scatter(55.5, 3, s=500*.3, ec='black', c='white', ax=ax)\n",
    "\n",
    "# We can add a label for the legend\n",
    "ax.text(52.5, 5, 'Size represents xG', ha='center', fontsize=8, fontfamily='monospace')\n",
    "\n",
    "# Legend\n",
    "if 'True' in str(df_shots['isOwnGoal'].values):\n",
    "    pitch.scatter(29.3, -2, s=500*.2, ec='red', c='red', ax=ax)\n",
    "    ax.text(33, -2.4, 'Own Goal', ha='center', fontsize=8, fontfamily='monospace')\n",
    "\n",
    "pitch.scatter(37.2, -2, s=500*.2, ec='purple', c='white', ax=ax)\n",
    "ax.text(39.5, -2.4, 'Shot', ha='center', fontsize=8, fontfamily='monospace')\n",
    "\n",
    "pitch.scatter(42.5, -2, s=500*.2, ec='green', c='green', ax=ax)\n",
    "ax.text(44.8, -2.4, 'Goal', ha='center', fontsize=8, fontfamily='monospace')\n",
    "\n",
    "if 'Penalty' in df_shots['situation'].values and 'Goal' in df_shots['eventType'].values:\n",
    "    pitch.scatter(47.4, -2, s=500*.2, ec='green', c='green', marker='*', ax=ax)\n",
    "    ax.text(50.5, -2.4, 'Penalty', ha='center', fontsize=8, fontfamily='monospace')\n",
    "# info\n",
    "ax.text(60, -2, 'Data via Opta | @axel_bol', ha='left', fontsize=8, fontfamily='monospace')\n",
    "\n",
    "# match context\n",
    "# pitch.scatter(49.5, 3, s=500*.05, ec='black', c='white', ax=ax)\n",
    "# pitch.scatter(52.5, 3, s=500*.15, ec='black', c='white', ax=ax)\n",
    "# pitch.scatter(55.5, 3, s=500*.3, ec='black', c='white', ax=ax)\n",
    "\n",
    "ax.text(x=52.5, y=50, s='GOALS', ha='center', fontsize=25, fontproperties=font_props,fontweight=800, color='black')\n",
    "ax.text(x=39.5, y=50, s=local_team_score, ha='center', fontsize=25, fontproperties=font_props,fontweight=800, color=home_color)\n",
    "ax.text(x=65.5, y=50, s=away_team_score, ha='center', fontsize=25, fontproperties=font_props,fontweight=800, color=away_color)\n",
    "\n",
    "ax.text(x=52.5, y=44, s='xG', ha='center', fontsize=25, fontproperties=font_props,fontweight=800, color='black')\n",
    "ax.text(x=39.5, y=44, s=local_xG, ha='center', fontsize=25, fontproperties=font_props,fontweight=800, color=home_color)\n",
    "ax.text(x=65.5, y=44, s=away_xG, ha='center', fontsize=25, fontproperties=font_props,fontweight=800, color=away_color)\n",
    "\n",
    "ax.text(x=52.5, y=36, s='SHOTS', ha='center', fontsize=25, fontproperties=font_props,fontweight=800, color='black')\n",
    "ax.text(x=39.5, y=36, s=local_total_shots, ha='center', fontsize=25, fontproperties=font_props,fontweight=800, color=home_color)\n",
    "ax.text(x=65.5, y=36, s=away_total_shots, ha='center', fontsize=25, fontproperties=font_props,fontweight=800, color=away_color)\n",
    "\n",
    "ax.text(x=52.5, y=28, s='ON TARGET', ha='center', fontsize=25, fontproperties=font_props,fontweight=800, color='black')\n",
    "ax.text(x=39.5, y=28, s=local_shots_target, ha='center', fontsize=25, fontproperties=font_props,fontweight=800, color=home_color)\n",
    "ax.text(x=65.5, y=28, s=away_shots_target, ha='center', fontsize=25, fontproperties=font_props,fontweight=800, color=away_color)\n",
    "\n",
    "ax.text(x=52.5, y=20, s='POSESSION', ha='center', fontsize=25, fontproperties=font_props,fontweight=800, color='black')\n",
    "ax.text(x=39.5, y=20, s=f\"{local_ball_possesion}%\", ha='center', fontsize=25, fontproperties=font_props,fontweight=800, color=home_color)\n",
    "ax.text(x=65.5, y=20, s=f\"{away_ball_possesion}%\", ha='center', fontsize=25, fontproperties=font_props,fontweight=800, color=away_color)\n",
    "\n",
    "# CHANGE THIS TO YOUR PATH\n",
    "plt.savefig('/home/axel/Code/images/image.png', dpi=fig.dpi, bbox_inches='tight', pad_inches=0.35)\n",
    "\n",
    "plt.show()"
   ]
  }
 ],
 "metadata": {
  "kernelspec": {
   "display_name": "mplsoccer",
   "language": "python",
   "name": "python3"
  },
  "language_info": {
   "codemirror_mode": {
    "name": "ipython",
    "version": 3
   },
   "file_extension": ".py",
   "mimetype": "text/x-python",
   "name": "python",
   "nbconvert_exporter": "python",
   "pygments_lexer": "ipython3",
   "version": "3.12.4"
  }
 },
 "nbformat": 4,
 "nbformat_minor": 2
}
