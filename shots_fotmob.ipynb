{
 "cells": [
  {
   "cell_type": "code",
   "execution_count": 1,
   "metadata": {},
   "outputs": [],
   "source": [
    "import requests\n",
    "import json\n",
    "from bs4 import BeautifulSoup as bs\n",
    "import pandas as pd\n",
    "import matplotlib.pyplot as plt\n",
    "from mplsoccer.pitch import Pitch, VerticalPitch"
   ]
  },
  {
   "cell_type": "code",
   "execution_count": 59,
   "metadata": {},
   "outputs": [
    {
     "data": {
      "text/plain": [
       "'https://www.fotmob.com/es/matches/empoli-vs-inter/2frraf#4535326'"
      ]
     },
     "execution_count": 59,
     "metadata": {},
     "output_type": "execute_result"
    }
   ],
   "source": [
    "url_input = input('Enter URL match')\n",
    "url_input"
   ]
  },
  {
   "cell_type": "code",
   "execution_count": 60,
   "metadata": {},
   "outputs": [],
   "source": [
    "# FotMob\n",
    "\n",
    "url = url_input\n",
    "\n",
    "r = requests.get(url)\n",
    "\n",
    "soup = bs(r.content)\n",
    "\n",
    "soup.find('script', attrs={'id': '__NEXT_DATA__'})\n",
    "\n",
    "soup.find('script', attrs={'id': '__NEXT_DATA__'}).contents\n",
    "\n",
    "soup.find('script', attrs={'id': '__NEXT_DATA__'}).contents[0]\n",
    "\n",
    "json.loads(soup.find('script', attrs={'id': '__NEXT_DATA__'}).contents[0])\n",
    "\n",
    "json_fotmob = json.loads(soup.find('script', attrs={'id': '__NEXT_DATA__'}).contents[0])"
   ]
  },
  {
   "cell_type": "markdown",
   "metadata": {},
   "source": [
    "General info"
   ]
  },
  {
   "cell_type": "code",
   "execution_count": 52,
   "metadata": {},
   "outputs": [
    {
     "data": {
      "text/plain": [
       "(35, 65)"
      ]
     },
     "execution_count": 52,
     "metadata": {},
     "output_type": "execute_result"
    }
   ],
   "source": [
    "# ball possesion\n",
    "local_ball_possesion = json_fotmob['props']['pageProps']['content']['stats']['Periods']['All']['stats'][0]['stats'][0]['stats'][0]\n",
    "away_ball_possesion = json_fotmob['props']['pageProps']['content']['stats']['Periods']['All']['stats'][0]['stats'][0]['stats'][1]\n",
    "local_ball_possesion, away_ball_possesion"
   ]
  },
  {
   "cell_type": "code",
   "execution_count": 6,
   "metadata": {},
   "outputs": [
    {
     "data": {
      "text/plain": [
       "('5.90', '1.16')"
      ]
     },
     "execution_count": 6,
     "metadata": {},
     "output_type": "execute_result"
    }
   ],
   "source": [
    "# xG\n",
    "local_xG = json_fotmob['props']['pageProps']['content']['stats']['Periods']['All']['stats'][0]['stats'][1]['stats'][0]\n",
    "away_xG = json_fotmob['props']['pageProps']['content']['stats']['Periods']['All']['stats'][0]['stats'][1]['stats'][1]\n",
    "local_xG, away_xG"
   ]
  },
  {
   "cell_type": "code",
   "execution_count": 7,
   "metadata": {},
   "outputs": [
    {
     "data": {
      "text/plain": [
       "(25, 6)"
      ]
     },
     "execution_count": 7,
     "metadata": {},
     "output_type": "execute_result"
    }
   ],
   "source": [
    "# total shots\n",
    "local_total_shots = json_fotmob['props']['pageProps']['content']['stats']['Periods']['All']['stats'][0]['stats'][2]['stats'][0]\n",
    "away_total_shots = json_fotmob['props']['pageProps']['content']['stats']['Periods']['All']['stats'][0]['stats'][2]['stats'][1]\n",
    "local_total_shots, away_total_shots"
   ]
  },
  {
   "cell_type": "code",
   "execution_count": 8,
   "metadata": {},
   "outputs": [
    {
     "data": {
      "text/plain": [
       "(13, 2)"
      ]
     },
     "execution_count": 8,
     "metadata": {},
     "output_type": "execute_result"
    }
   ],
   "source": [
    "# shots on target\n",
    "local_shots_target = json_fotmob['props']['pageProps']['content']['stats']['Periods']['All']['stats'][0]['stats'][3]['stats'][0]\n",
    "away_shots_target = json_fotmob['props']['pageProps']['content']['stats']['Periods']['All']['stats'][0]['stats'][3]['stats'][1]\n",
    "local_shots_target, away_shots_target"
   ]
  },
  {
   "cell_type": "markdown",
   "metadata": {},
   "source": [
    "Shots"
   ]
  },
  {
   "cell_type": "code",
   "execution_count": 53,
   "metadata": {},
   "outputs": [
    {
     "data": {
      "text/html": [
       "<div>\n",
       "<style scoped>\n",
       "    .dataframe tbody tr th:only-of-type {\n",
       "        vertical-align: middle;\n",
       "    }\n",
       "\n",
       "    .dataframe tbody tr th {\n",
       "        vertical-align: top;\n",
       "    }\n",
       "\n",
       "    .dataframe thead th {\n",
       "        text-align: right;\n",
       "    }\n",
       "</style>\n",
       "<table border=\"1\" class=\"dataframe\">\n",
       "  <thead>\n",
       "    <tr style=\"text-align: right;\">\n",
       "      <th></th>\n",
       "      <th>id</th>\n",
       "      <th>eventType</th>\n",
       "      <th>teamId</th>\n",
       "      <th>playerId</th>\n",
       "      <th>playerName</th>\n",
       "      <th>x</th>\n",
       "      <th>y</th>\n",
       "      <th>min</th>\n",
       "      <th>minAdded</th>\n",
       "      <th>isBlocked</th>\n",
       "      <th>...</th>\n",
       "      <th>period</th>\n",
       "      <th>isOwnGoal</th>\n",
       "      <th>onGoalShot</th>\n",
       "      <th>isSavedOffLine</th>\n",
       "      <th>isFromInsideBox</th>\n",
       "      <th>keeperId</th>\n",
       "      <th>firstName</th>\n",
       "      <th>lastName</th>\n",
       "      <th>fullName</th>\n",
       "      <th>teamColor</th>\n",
       "    </tr>\n",
       "  </thead>\n",
       "  <tbody>\n",
       "    <tr>\n",
       "      <th>0</th>\n",
       "      <td>2766951053</td>\n",
       "      <td>AttemptSaved</td>\n",
       "      <td>8668</td>\n",
       "      <td>958335</td>\n",
       "      <td>Jesper Lindstrøm</td>\n",
       "      <td>81.696602</td>\n",
       "      <td>23.999236</td>\n",
       "      <td>7</td>\n",
       "      <td>NaN</td>\n",
       "      <td>False</td>\n",
       "      <td>...</td>\n",
       "      <td>FirstHalf</td>\n",
       "      <td>False</td>\n",
       "      <td>{'x': 0.455357142857142, 'y': 0.35502645328042...</td>\n",
       "      <td>False</td>\n",
       "      <td>False</td>\n",
       "      <td>1341475.0</td>\n",
       "      <td>Jesper</td>\n",
       "      <td>Lindstrøm</td>\n",
       "      <td>Jesper Lindstrøm</td>\n",
       "      <td>#0035b8</td>\n",
       "    </tr>\n",
       "    <tr>\n",
       "      <th>1</th>\n",
       "      <td>2766956173</td>\n",
       "      <td>AttemptSaved</td>\n",
       "      <td>8668</td>\n",
       "      <td>965764</td>\n",
       "      <td>Iliman Ndiaye</td>\n",
       "      <td>85.708824</td>\n",
       "      <td>33.618750</td>\n",
       "      <td>11</td>\n",
       "      <td>NaN</td>\n",
       "      <td>True</td>\n",
       "      <td>...</td>\n",
       "      <td>FirstHalf</td>\n",
       "      <td>False</td>\n",
       "      <td>{'x': 0.7175925925925919, 'y': 0.3227513211640...</td>\n",
       "      <td>False</td>\n",
       "      <td>False</td>\n",
       "      <td>NaN</td>\n",
       "      <td>Iliman</td>\n",
       "      <td>Ndiaye</td>\n",
       "      <td>Iliman Ndiaye</td>\n",
       "      <td>#0035b8</td>\n",
       "    </tr>\n",
       "    <tr>\n",
       "      <th>2</th>\n",
       "      <td>2766958129</td>\n",
       "      <td>Goal</td>\n",
       "      <td>8668</td>\n",
       "      <td>612150</td>\n",
       "      <td>Dominic Calvert-Lewin</td>\n",
       "      <td>93.700000</td>\n",
       "      <td>38.872619</td>\n",
       "      <td>13</td>\n",
       "      <td>NaN</td>\n",
       "      <td>False</td>\n",
       "      <td>...</td>\n",
       "      <td>FirstHalf</td>\n",
       "      <td>False</td>\n",
       "      <td>{'x': 0.37466931216931143, 'y': 0.064550264232...</td>\n",
       "      <td>False</td>\n",
       "      <td>True</td>\n",
       "      <td>1341475.0</td>\n",
       "      <td>Dominic</td>\n",
       "      <td>Calvert-Lewin</td>\n",
       "      <td>Dominic Calvert-Lewin</td>\n",
       "      <td>#0035b8</td>\n",
       "    </tr>\n",
       "    <tr>\n",
       "      <th>3</th>\n",
       "      <td>2766968337</td>\n",
       "      <td>AttemptSaved</td>\n",
       "      <td>8586</td>\n",
       "      <td>894803</td>\n",
       "      <td>Djed Spence</td>\n",
       "      <td>84.957353</td>\n",
       "      <td>48.344713</td>\n",
       "      <td>22</td>\n",
       "      <td>NaN</td>\n",
       "      <td>True</td>\n",
       "      <td>...</td>\n",
       "      <td>FirstHalf</td>\n",
       "      <td>False</td>\n",
       "      <td>{'x': 1, 'y': 0.32275132116402117, 'zoomRatio'...</td>\n",
       "      <td>False</td>\n",
       "      <td>False</td>\n",
       "      <td>NaN</td>\n",
       "      <td>Djed</td>\n",
       "      <td>Spence</td>\n",
       "      <td>Djed Spence</td>\n",
       "      <td>#132257</td>\n",
       "    </tr>\n",
       "    <tr>\n",
       "      <th>4</th>\n",
       "      <td>2766969741</td>\n",
       "      <td>AttemptSaved</td>\n",
       "      <td>8586</td>\n",
       "      <td>212867</td>\n",
       "      <td>Heung-Min Son</td>\n",
       "      <td>92.100000</td>\n",
       "      <td>31.788750</td>\n",
       "      <td>24</td>\n",
       "      <td>NaN</td>\n",
       "      <td>False</td>\n",
       "      <td>...</td>\n",
       "      <td>FirstHalf</td>\n",
       "      <td>False</td>\n",
       "      <td>{'x': 0.7579365079365064, 'y': 0.1189083814814...</td>\n",
       "      <td>False</td>\n",
       "      <td>True</td>\n",
       "      <td>303919.0</td>\n",
       "      <td>Heung-Min</td>\n",
       "      <td>Son</td>\n",
       "      <td>Heung-Min Son</td>\n",
       "      <td>#132257</td>\n",
       "    </tr>\n",
       "  </tbody>\n",
       "</table>\n",
       "<p>5 rows × 29 columns</p>\n",
       "</div>"
      ],
      "text/plain": [
       "           id     eventType  teamId  playerId             playerName  \\\n",
       "0  2766951053  AttemptSaved    8668    958335       Jesper Lindstrøm   \n",
       "1  2766956173  AttemptSaved    8668    965764          Iliman Ndiaye   \n",
       "2  2766958129          Goal    8668    612150  Dominic Calvert-Lewin   \n",
       "3  2766968337  AttemptSaved    8586    894803            Djed Spence   \n",
       "4  2766969741  AttemptSaved    8586    212867          Heung-Min Son   \n",
       "\n",
       "           x          y  min  minAdded  isBlocked  ...     period  isOwnGoal  \\\n",
       "0  81.696602  23.999236    7       NaN      False  ...  FirstHalf      False   \n",
       "1  85.708824  33.618750   11       NaN       True  ...  FirstHalf      False   \n",
       "2  93.700000  38.872619   13       NaN      False  ...  FirstHalf      False   \n",
       "3  84.957353  48.344713   22       NaN       True  ...  FirstHalf      False   \n",
       "4  92.100000  31.788750   24       NaN      False  ...  FirstHalf      False   \n",
       "\n",
       "                                          onGoalShot  isSavedOffLine  \\\n",
       "0  {'x': 0.455357142857142, 'y': 0.35502645328042...           False   \n",
       "1  {'x': 0.7175925925925919, 'y': 0.3227513211640...           False   \n",
       "2  {'x': 0.37466931216931143, 'y': 0.064550264232...           False   \n",
       "3  {'x': 1, 'y': 0.32275132116402117, 'zoomRatio'...           False   \n",
       "4  {'x': 0.7579365079365064, 'y': 0.1189083814814...           False   \n",
       "\n",
       "   isFromInsideBox   keeperId  firstName       lastName  \\\n",
       "0            False  1341475.0     Jesper      Lindstrøm   \n",
       "1            False        NaN     Iliman         Ndiaye   \n",
       "2             True  1341475.0    Dominic  Calvert-Lewin   \n",
       "3            False        NaN       Djed         Spence   \n",
       "4             True   303919.0  Heung-Min            Son   \n",
       "\n",
       "                fullName teamColor  \n",
       "0       Jesper Lindstrøm   #0035b8  \n",
       "1          Iliman Ndiaye   #0035b8  \n",
       "2  Dominic Calvert-Lewin   #0035b8  \n",
       "3            Djed Spence   #132257  \n",
       "4          Heung-Min Son   #132257  \n",
       "\n",
       "[5 rows x 29 columns]"
      ]
     },
     "execution_count": 53,
     "metadata": {},
     "output_type": "execute_result"
    }
   ],
   "source": [
    "df_shots = pd.DataFrame(json_fotmob['props']['pageProps']['content']['shotmap']['shots'])\n",
    "df_shots.head()"
   ]
  },
  {
   "cell_type": "code",
   "execution_count": 54,
   "metadata": {},
   "outputs": [
    {
     "data": {
      "text/plain": [
       "(24, 29)"
      ]
     },
     "execution_count": 54,
     "metadata": {},
     "output_type": "execute_result"
    }
   ],
   "source": [
    "df_shots.shape"
   ]
  },
  {
   "cell_type": "code",
   "execution_count": 55,
   "metadata": {},
   "outputs": [
    {
     "data": {
      "text/html": [
       "<div>\n",
       "<style scoped>\n",
       "    .dataframe tbody tr th:only-of-type {\n",
       "        vertical-align: middle;\n",
       "    }\n",
       "\n",
       "    .dataframe tbody tr th {\n",
       "        vertical-align: top;\n",
       "    }\n",
       "\n",
       "    .dataframe thead th {\n",
       "        text-align: right;\n",
       "    }\n",
       "</style>\n",
       "<table border=\"1\" class=\"dataframe\">\n",
       "  <thead>\n",
       "    <tr style=\"text-align: right;\">\n",
       "      <th></th>\n",
       "      <th>eventType</th>\n",
       "      <th>expectedGoals</th>\n",
       "      <th>situation</th>\n",
       "      <th>isOwnGoal</th>\n",
       "    </tr>\n",
       "  </thead>\n",
       "  <tbody>\n",
       "    <tr>\n",
       "      <th>0</th>\n",
       "      <td>AttemptSaved</td>\n",
       "      <td>0.035074</td>\n",
       "      <td>RegularPlay</td>\n",
       "      <td>False</td>\n",
       "    </tr>\n",
       "    <tr>\n",
       "      <th>1</th>\n",
       "      <td>AttemptSaved</td>\n",
       "      <td>0.154727</td>\n",
       "      <td>FastBreak</td>\n",
       "      <td>False</td>\n",
       "    </tr>\n",
       "    <tr>\n",
       "      <th>2</th>\n",
       "      <td>Goal</td>\n",
       "      <td>0.087428</td>\n",
       "      <td>RegularPlay</td>\n",
       "      <td>False</td>\n",
       "    </tr>\n",
       "    <tr>\n",
       "      <th>3</th>\n",
       "      <td>AttemptSaved</td>\n",
       "      <td>0.036235</td>\n",
       "      <td>RegularPlay</td>\n",
       "      <td>False</td>\n",
       "    </tr>\n",
       "    <tr>\n",
       "      <th>4</th>\n",
       "      <td>AttemptSaved</td>\n",
       "      <td>0.262259</td>\n",
       "      <td>RegularPlay</td>\n",
       "      <td>False</td>\n",
       "    </tr>\n",
       "    <tr>\n",
       "      <th>5</th>\n",
       "      <td>AttemptSaved</td>\n",
       "      <td>0.223398</td>\n",
       "      <td>RegularPlay</td>\n",
       "      <td>False</td>\n",
       "    </tr>\n",
       "    <tr>\n",
       "      <th>6</th>\n",
       "      <td>AttemptSaved</td>\n",
       "      <td>0.107536</td>\n",
       "      <td>RegularPlay</td>\n",
       "      <td>False</td>\n",
       "    </tr>\n",
       "    <tr>\n",
       "      <th>7</th>\n",
       "      <td>AttemptSaved</td>\n",
       "      <td>0.065769</td>\n",
       "      <td>FastBreak</td>\n",
       "      <td>False</td>\n",
       "    </tr>\n",
       "    <tr>\n",
       "      <th>8</th>\n",
       "      <td>Goal</td>\n",
       "      <td>0.356132</td>\n",
       "      <td>RegularPlay</td>\n",
       "      <td>False</td>\n",
       "    </tr>\n",
       "    <tr>\n",
       "      <th>9</th>\n",
       "      <td>Miss</td>\n",
       "      <td>0.036904</td>\n",
       "      <td>RegularPlay</td>\n",
       "      <td>False</td>\n",
       "    </tr>\n",
       "    <tr>\n",
       "      <th>10</th>\n",
       "      <td>AttemptSaved</td>\n",
       "      <td>0.194630</td>\n",
       "      <td>SetPiece</td>\n",
       "      <td>False</td>\n",
       "    </tr>\n",
       "    <tr>\n",
       "      <th>11</th>\n",
       "      <td>Miss</td>\n",
       "      <td>0.485041</td>\n",
       "      <td>FromCorner</td>\n",
       "      <td>False</td>\n",
       "    </tr>\n",
       "    <tr>\n",
       "      <th>12</th>\n",
       "      <td>Goal</td>\n",
       "      <td>NaN</td>\n",
       "      <td>FromCorner</td>\n",
       "      <td>True</td>\n",
       "    </tr>\n",
       "    <tr>\n",
       "      <th>13</th>\n",
       "      <td>Miss</td>\n",
       "      <td>0.021121</td>\n",
       "      <td>FromCorner</td>\n",
       "      <td>False</td>\n",
       "    </tr>\n",
       "    <tr>\n",
       "      <th>14</th>\n",
       "      <td>Miss</td>\n",
       "      <td>0.088871</td>\n",
       "      <td>FastBreak</td>\n",
       "      <td>False</td>\n",
       "    </tr>\n",
       "    <tr>\n",
       "      <th>15</th>\n",
       "      <td>Miss</td>\n",
       "      <td>0.110914</td>\n",
       "      <td>RegularPlay</td>\n",
       "      <td>False</td>\n",
       "    </tr>\n",
       "    <tr>\n",
       "      <th>16</th>\n",
       "      <td>AttemptSaved</td>\n",
       "      <td>0.087022</td>\n",
       "      <td>RegularPlay</td>\n",
       "      <td>False</td>\n",
       "    </tr>\n",
       "    <tr>\n",
       "      <th>17</th>\n",
       "      <td>Miss</td>\n",
       "      <td>0.093431</td>\n",
       "      <td>RegularPlay</td>\n",
       "      <td>False</td>\n",
       "    </tr>\n",
       "    <tr>\n",
       "      <th>18</th>\n",
       "      <td>AttemptSaved</td>\n",
       "      <td>0.122768</td>\n",
       "      <td>RegularPlay</td>\n",
       "      <td>False</td>\n",
       "    </tr>\n",
       "    <tr>\n",
       "      <th>19</th>\n",
       "      <td>Goal</td>\n",
       "      <td>0.107891</td>\n",
       "      <td>RegularPlay</td>\n",
       "      <td>False</td>\n",
       "    </tr>\n",
       "    <tr>\n",
       "      <th>20</th>\n",
       "      <td>AttemptSaved</td>\n",
       "      <td>0.086107</td>\n",
       "      <td>RegularPlay</td>\n",
       "      <td>False</td>\n",
       "    </tr>\n",
       "    <tr>\n",
       "      <th>21</th>\n",
       "      <td>AttemptSaved</td>\n",
       "      <td>0.059914</td>\n",
       "      <td>RegularPlay</td>\n",
       "      <td>False</td>\n",
       "    </tr>\n",
       "    <tr>\n",
       "      <th>22</th>\n",
       "      <td>Goal</td>\n",
       "      <td>0.241186</td>\n",
       "      <td>FromCorner</td>\n",
       "      <td>False</td>\n",
       "    </tr>\n",
       "    <tr>\n",
       "      <th>23</th>\n",
       "      <td>AttemptSaved</td>\n",
       "      <td>0.019845</td>\n",
       "      <td>RegularPlay</td>\n",
       "      <td>False</td>\n",
       "    </tr>\n",
       "  </tbody>\n",
       "</table>\n",
       "</div>"
      ],
      "text/plain": [
       "       eventType  expectedGoals    situation  isOwnGoal\n",
       "0   AttemptSaved       0.035074  RegularPlay      False\n",
       "1   AttemptSaved       0.154727    FastBreak      False\n",
       "2           Goal       0.087428  RegularPlay      False\n",
       "3   AttemptSaved       0.036235  RegularPlay      False\n",
       "4   AttemptSaved       0.262259  RegularPlay      False\n",
       "5   AttemptSaved       0.223398  RegularPlay      False\n",
       "6   AttemptSaved       0.107536  RegularPlay      False\n",
       "7   AttemptSaved       0.065769    FastBreak      False\n",
       "8           Goal       0.356132  RegularPlay      False\n",
       "9           Miss       0.036904  RegularPlay      False\n",
       "10  AttemptSaved       0.194630     SetPiece      False\n",
       "11          Miss       0.485041   FromCorner      False\n",
       "12          Goal            NaN   FromCorner       True\n",
       "13          Miss       0.021121   FromCorner      False\n",
       "14          Miss       0.088871    FastBreak      False\n",
       "15          Miss       0.110914  RegularPlay      False\n",
       "16  AttemptSaved       0.087022  RegularPlay      False\n",
       "17          Miss       0.093431  RegularPlay      False\n",
       "18  AttemptSaved       0.122768  RegularPlay      False\n",
       "19          Goal       0.107891  RegularPlay      False\n",
       "20  AttemptSaved       0.086107  RegularPlay      False\n",
       "21  AttemptSaved       0.059914  RegularPlay      False\n",
       "22          Goal       0.241186   FromCorner      False\n",
       "23  AttemptSaved       0.019845  RegularPlay      False"
      ]
     },
     "execution_count": 55,
     "metadata": {},
     "output_type": "execute_result"
    }
   ],
   "source": [
    "# check if True in isOwnGoal\n",
    "df_shots[['eventType', 'expectedGoals', 'situation', 'isOwnGoal']]"
   ]
  },
  {
   "cell_type": "code",
   "execution_count": 56,
   "metadata": {},
   "outputs": [
    {
     "name": "stdout",
     "output_type": "stream",
     "text": [
      "True\n"
     ]
    }
   ],
   "source": [
    "# check if exists NaN in expectedGoals\n",
    "\n",
    "has_nan = df_shots['expectedGoals'].isna().any()\n",
    "print(has_nan)  # Returns True if there are NaN values, False otherwise\n",
    "\n",
    "# nan_count = df_shots['expectedGoals'].isna().sum()\n",
    "# print(nan_count)  # Returns the number of NaN values in the column\n",
    "\n",
    "# no_nan = df_shots['expectedGoals'].notna().all()\n",
    "# print(no_nan)  # Returns True if no NaN values are present\n",
    "\n",
    "# df_shots.info()"
   ]
  },
  {
   "cell_type": "code",
   "execution_count": 57,
   "metadata": {},
   "outputs": [
    {
     "data": {
      "text/html": [
       "<div>\n",
       "<style scoped>\n",
       "    .dataframe tbody tr th:only-of-type {\n",
       "        vertical-align: middle;\n",
       "    }\n",
       "\n",
       "    .dataframe tbody tr th {\n",
       "        vertical-align: top;\n",
       "    }\n",
       "\n",
       "    .dataframe thead th {\n",
       "        text-align: right;\n",
       "    }\n",
       "</style>\n",
       "<table border=\"1\" class=\"dataframe\">\n",
       "  <thead>\n",
       "    <tr style=\"text-align: right;\">\n",
       "      <th></th>\n",
       "      <th>eventType</th>\n",
       "      <th>expectedGoals</th>\n",
       "      <th>isOwnGoal</th>\n",
       "    </tr>\n",
       "  </thead>\n",
       "  <tbody>\n",
       "    <tr>\n",
       "      <th>0</th>\n",
       "      <td>AttemptSaved</td>\n",
       "      <td>0.035074</td>\n",
       "      <td>False</td>\n",
       "    </tr>\n",
       "    <tr>\n",
       "      <th>1</th>\n",
       "      <td>AttemptSaved</td>\n",
       "      <td>0.154727</td>\n",
       "      <td>False</td>\n",
       "    </tr>\n",
       "    <tr>\n",
       "      <th>2</th>\n",
       "      <td>Goal</td>\n",
       "      <td>0.087428</td>\n",
       "      <td>False</td>\n",
       "    </tr>\n",
       "    <tr>\n",
       "      <th>3</th>\n",
       "      <td>AttemptSaved</td>\n",
       "      <td>0.036235</td>\n",
       "      <td>False</td>\n",
       "    </tr>\n",
       "    <tr>\n",
       "      <th>4</th>\n",
       "      <td>AttemptSaved</td>\n",
       "      <td>0.262259</td>\n",
       "      <td>False</td>\n",
       "    </tr>\n",
       "    <tr>\n",
       "      <th>5</th>\n",
       "      <td>AttemptSaved</td>\n",
       "      <td>0.223398</td>\n",
       "      <td>False</td>\n",
       "    </tr>\n",
       "    <tr>\n",
       "      <th>6</th>\n",
       "      <td>AttemptSaved</td>\n",
       "      <td>0.107536</td>\n",
       "      <td>False</td>\n",
       "    </tr>\n",
       "    <tr>\n",
       "      <th>7</th>\n",
       "      <td>AttemptSaved</td>\n",
       "      <td>0.065769</td>\n",
       "      <td>False</td>\n",
       "    </tr>\n",
       "    <tr>\n",
       "      <th>8</th>\n",
       "      <td>Goal</td>\n",
       "      <td>0.356132</td>\n",
       "      <td>False</td>\n",
       "    </tr>\n",
       "    <tr>\n",
       "      <th>9</th>\n",
       "      <td>Miss</td>\n",
       "      <td>0.036904</td>\n",
       "      <td>False</td>\n",
       "    </tr>\n",
       "    <tr>\n",
       "      <th>10</th>\n",
       "      <td>AttemptSaved</td>\n",
       "      <td>0.194630</td>\n",
       "      <td>False</td>\n",
       "    </tr>\n",
       "    <tr>\n",
       "      <th>11</th>\n",
       "      <td>Miss</td>\n",
       "      <td>0.485041</td>\n",
       "      <td>False</td>\n",
       "    </tr>\n",
       "    <tr>\n",
       "      <th>12</th>\n",
       "      <td>Goal</td>\n",
       "      <td>NaN</td>\n",
       "      <td>True</td>\n",
       "    </tr>\n",
       "    <tr>\n",
       "      <th>13</th>\n",
       "      <td>Miss</td>\n",
       "      <td>0.021121</td>\n",
       "      <td>False</td>\n",
       "    </tr>\n",
       "    <tr>\n",
       "      <th>14</th>\n",
       "      <td>Miss</td>\n",
       "      <td>0.088871</td>\n",
       "      <td>False</td>\n",
       "    </tr>\n",
       "    <tr>\n",
       "      <th>15</th>\n",
       "      <td>Miss</td>\n",
       "      <td>0.110914</td>\n",
       "      <td>False</td>\n",
       "    </tr>\n",
       "    <tr>\n",
       "      <th>16</th>\n",
       "      <td>AttemptSaved</td>\n",
       "      <td>0.087022</td>\n",
       "      <td>False</td>\n",
       "    </tr>\n",
       "    <tr>\n",
       "      <th>17</th>\n",
       "      <td>Miss</td>\n",
       "      <td>0.093431</td>\n",
       "      <td>False</td>\n",
       "    </tr>\n",
       "    <tr>\n",
       "      <th>18</th>\n",
       "      <td>AttemptSaved</td>\n",
       "      <td>0.122768</td>\n",
       "      <td>False</td>\n",
       "    </tr>\n",
       "    <tr>\n",
       "      <th>19</th>\n",
       "      <td>Goal</td>\n",
       "      <td>0.107891</td>\n",
       "      <td>False</td>\n",
       "    </tr>\n",
       "    <tr>\n",
       "      <th>20</th>\n",
       "      <td>AttemptSaved</td>\n",
       "      <td>0.086107</td>\n",
       "      <td>False</td>\n",
       "    </tr>\n",
       "    <tr>\n",
       "      <th>21</th>\n",
       "      <td>AttemptSaved</td>\n",
       "      <td>0.059914</td>\n",
       "      <td>False</td>\n",
       "    </tr>\n",
       "    <tr>\n",
       "      <th>22</th>\n",
       "      <td>Goal</td>\n",
       "      <td>0.241186</td>\n",
       "      <td>False</td>\n",
       "    </tr>\n",
       "    <tr>\n",
       "      <th>23</th>\n",
       "      <td>AttemptSaved</td>\n",
       "      <td>0.019845</td>\n",
       "      <td>False</td>\n",
       "    </tr>\n",
       "  </tbody>\n",
       "</table>\n",
       "</div>"
      ],
      "text/plain": [
       "       eventType  expectedGoals  isOwnGoal\n",
       "0   AttemptSaved       0.035074      False\n",
       "1   AttemptSaved       0.154727      False\n",
       "2           Goal       0.087428      False\n",
       "3   AttemptSaved       0.036235      False\n",
       "4   AttemptSaved       0.262259      False\n",
       "5   AttemptSaved       0.223398      False\n",
       "6   AttemptSaved       0.107536      False\n",
       "7   AttemptSaved       0.065769      False\n",
       "8           Goal       0.356132      False\n",
       "9           Miss       0.036904      False\n",
       "10  AttemptSaved       0.194630      False\n",
       "11          Miss       0.485041      False\n",
       "12          Goal            NaN       True\n",
       "13          Miss       0.021121      False\n",
       "14          Miss       0.088871      False\n",
       "15          Miss       0.110914      False\n",
       "16  AttemptSaved       0.087022      False\n",
       "17          Miss       0.093431      False\n",
       "18  AttemptSaved       0.122768      False\n",
       "19          Goal       0.107891      False\n",
       "20  AttemptSaved       0.086107      False\n",
       "21  AttemptSaved       0.059914      False\n",
       "22          Goal       0.241186      False\n",
       "23  AttemptSaved       0.019845      False"
      ]
     },
     "execution_count": 57,
     "metadata": {},
     "output_type": "execute_result"
    }
   ],
   "source": [
    "df_shots[['eventType', 'expectedGoals', 'isOwnGoal']]"
   ]
  },
  {
   "cell_type": "code",
   "execution_count": 58,
   "metadata": {},
   "outputs": [
    {
     "data": {
      "text/plain": [
       "0     0.035074\n",
       "1     0.154727\n",
       "2     0.087428\n",
       "3     0.036235\n",
       "4     0.262259\n",
       "5     0.223398\n",
       "6     0.107536\n",
       "7     0.065769\n",
       "8     0.356132\n",
       "9     0.036904\n",
       "10    0.194630\n",
       "11    0.485041\n",
       "12         NaN\n",
       "13    0.021121\n",
       "14    0.088871\n",
       "15    0.110914\n",
       "16    0.087022\n",
       "17    0.093431\n",
       "18    0.122768\n",
       "19    0.107891\n",
       "20    0.086107\n",
       "21    0.059914\n",
       "22    0.241186\n",
       "23    0.019845\n",
       "Name: expectedGoals, dtype: float64"
      ]
     },
     "execution_count": 58,
     "metadata": {},
     "output_type": "execute_result"
    }
   ],
   "source": [
    "# If you want to convert it to a LIST add .tolist()\n",
    "\n",
    "# xG = df_shots['expectedGoals']\n",
    "# xG_list = xG.tolist()\n",
    "# xG_list\n",
    "\n",
    "# xG=df_shots.expectedGoals\n",
    "# xG\n",
    "\n",
    "# xG_loc = df_shots.loc[:, 'expectedGoals']\n",
    "# xG_loc\n",
    "\n",
    "xG_get = df_shots.get('expectedGoals')\n",
    "xG_get\n",
    "\n",
    "# Using .iloc[]: If you know the position of the name column (e.g., if it's the first column):\n",
    "# column_position = df_shots.columns.get_loc('expectedGoals')\n",
    "\n",
    "# column_position\n",
    "# xG_iloc = df_shots.iloc[:, 15]\n",
    "# xG_iloc"
   ]
  },
  {
   "cell_type": "code",
   "execution_count": null,
   "metadata": {},
   "outputs": [],
   "source": [
    "# Replace NaN with 0\n",
    "\n",
    "# df_shots['expectedGoals'].fillna(0, inplace=True)\n",
    "\n",
    "# Replace with the mean of the column:\n",
    "# df_shots['expectedGoals'].fillna(df_shots['expectedGoals'].mean(), inplace=True)\n",
    "\n",
    "# Replace with the median of the column:\n",
    "df_shots['expectedGoals'].fillna(df_shots['expectedGoals'].median(), inplace=True)\n"
   ]
  },
  {
   "cell_type": "code",
   "execution_count": 15,
   "metadata": {},
   "outputs": [
    {
     "data": {
      "text/plain": [
       "8633"
      ]
     },
     "execution_count": 15,
     "metadata": {},
     "output_type": "execute_result"
    }
   ],
   "source": [
    "# get local team id\n",
    "\n",
    "local_team_id = json_fotmob['props']['pageProps']['general']['homeTeam']['id']\n",
    "local_team_id"
   ]
  },
  {
   "cell_type": "code",
   "execution_count": 16,
   "metadata": {},
   "outputs": [
    {
     "data": {
      "text/plain": [
       "{'matchId': '4506953',\n",
       " 'matchName': 'Real Madrid-vs-Las Palmas_Sun, Jan 19, 2025, 15:15 UTC',\n",
       " 'matchRound': '20',\n",
       " 'teamColors': {'darkMode': {'home': '#ffffff', 'away': '#FFD700'},\n",
       "  'lightMode': {'home': '#085098', 'away': '#da9f00'},\n",
       "  'fontDarkMode': {'home': 'rgba(29, 29, 29, 1.0)',\n",
       "   'away': 'rgba(29, 29, 29, 1.0)'},\n",
       "  'fontLightMode': {'home': 'rgba(255, 255, 255, 1.0)',\n",
       "   'away': 'rgba(255, 255, 255, 1.0)'}},\n",
       " 'leagueId': 87,\n",
       " 'leagueName': 'LaLiga',\n",
       " 'leagueRoundName': 'Round 20',\n",
       " 'parentLeagueId': 87,\n",
       " 'countryCode': 'ESP',\n",
       " 'parentLeagueName': 'LaLiga',\n",
       " 'parentLeagueSeason': '2024/2025',\n",
       " 'parentLeagueTopScorerLink': 'https://data.fotmob.com/stats/87/season/23686/goals.json',\n",
       " 'parentLeagueTournamentId': 23686,\n",
       " 'homeTeam': {'name': 'Real Madrid', 'id': 8633},\n",
       " 'awayTeam': {'name': 'Las Palmas', 'id': 8306},\n",
       " 'coverageLevel': 'xG',\n",
       " 'matchTimeUTC': 'Sun, Jan 19, 2025, 15:15 UTC',\n",
       " 'matchTimeUTCDate': '2025-01-19T15:15:00.000Z',\n",
       " 'started': True,\n",
       " 'finished': True}"
      ]
     },
     "execution_count": 16,
     "metadata": {},
     "output_type": "execute_result"
    }
   ],
   "source": [
    "# get general data\n",
    "\n",
    "json_fotmob['props']['pageProps']['general']"
   ]
  },
  {
   "cell_type": "code",
   "execution_count": 17,
   "metadata": {},
   "outputs": [
    {
     "name": "stdout",
     "output_type": "stream",
     "text": [
      "LaLiga\n",
      "Round 20\n"
     ]
    }
   ],
   "source": [
    "# get league name and league round for the viz\n",
    "\n",
    "leagueName = json_fotmob['props']['pageProps']['general']['leagueName']\n",
    "print(leagueName)\n",
    "leagueRound = json_fotmob['props']['pageProps']['general']['leagueRoundName']\n",
    "print(leagueRound)"
   ]
  },
  {
   "cell_type": "code",
   "execution_count": 18,
   "metadata": {},
   "outputs": [
    {
     "data": {
      "text/plain": [
       "'LaLiga | Round 20'"
      ]
     },
     "execution_count": 18,
     "metadata": {},
     "output_type": "execute_result"
    }
   ],
   "source": [
    "league_title = leagueName + ' | ' + leagueRound\n",
    "league_title"
   ]
  },
  {
   "cell_type": "code",
   "execution_count": 19,
   "metadata": {},
   "outputs": [
    {
     "data": {
      "text/plain": [
       "[{'name': 'Real Madrid',\n",
       "  'id': 8633,\n",
       "  'score': 4,\n",
       "  'imageUrl': 'https://images.fotmob.com/image_resources/logo/teamlogo/8633_small.png',\n",
       "  'pageUrl': '/teams/8633/overview/real-madrid',\n",
       "  'fifaRank': None},\n",
       " {'name': 'Las Palmas',\n",
       "  'id': 8306,\n",
       "  'score': 1,\n",
       "  'imageUrl': 'https://images.fotmob.com/image_resources/logo/teamlogo/8306_small.png',\n",
       "  'pageUrl': '/teams/8306/overview/las-palmas',\n",
       "  'fifaRank': None}]"
      ]
     },
     "execution_count": 19,
     "metadata": {},
     "output_type": "execute_result"
    }
   ],
   "source": [
    "# local team info and away team info\n",
    "\n",
    "json_fotmob['props']['pageProps']['header']['teams']"
   ]
  },
  {
   "cell_type": "code",
   "execution_count": 20,
   "metadata": {},
   "outputs": [
    {
     "name": "stdout",
     "output_type": "stream",
     "text": [
      "Real Madrid\n",
      "Las Palmas\n"
     ]
    }
   ],
   "source": [
    "# Get ID and team names\n",
    "\n",
    "local_team_name = json_fotmob['props']['pageProps']['header']['teams'][0]['name']\n",
    "print(local_team_name)\n",
    "away_team_name = json_fotmob['props']['pageProps']['header']['teams'][1]['name']\n",
    "print(away_team_name)"
   ]
  },
  {
   "cell_type": "code",
   "execution_count": 21,
   "metadata": {},
   "outputs": [
    {
     "name": "stdout",
     "output_type": "stream",
     "text": [
      "4\n",
      "1\n"
     ]
    }
   ],
   "source": [
    "# score\n",
    "\n",
    "local_team_score = json_fotmob['props']['pageProps']['header']['teams'][0]['score']\n",
    "print(local_team_score)\n",
    "away_team_score = json_fotmob['props']['pageProps']['header']['teams'][1]['score']\n",
    "print(away_team_score)"
   ]
  },
  {
   "cell_type": "code",
   "execution_count": 22,
   "metadata": {},
   "outputs": [
    {
     "data": {
      "text/plain": [
       "'Real Madrid 4-1 Las Palmas'"
      ]
     },
     "execution_count": 22,
     "metadata": {},
     "output_type": "execute_result"
    }
   ],
   "source": [
    "# title for the viz\n",
    "\n",
    "plot_title = local_team_name + ' ' + str(local_team_score) + '-' + str(away_team_score) + ' ' + away_team_name\n",
    "plot_title"
   ]
  },
  {
   "cell_type": "code",
   "execution_count": 23,
   "metadata": {},
   "outputs": [
    {
     "data": {
      "text/plain": [
       "{'darkMode': {'home': '#ffffff', 'away': '#FFD700'},\n",
       " 'lightMode': {'home': '#085098', 'away': '#da9f00'},\n",
       " 'fontDarkMode': {'home': 'rgba(29, 29, 29, 1.0)',\n",
       "  'away': 'rgba(29, 29, 29, 1.0)'},\n",
       " 'fontLightMode': {'home': 'rgba(255, 255, 255, 1.0)',\n",
       "  'away': 'rgba(255, 255, 255, 1.0)'}}"
      ]
     },
     "execution_count": 23,
     "metadata": {},
     "output_type": "execute_result"
    }
   ],
   "source": [
    "# Get color teams\n",
    "\n",
    "json_fotmob['props']['pageProps']['general']['teamColors']"
   ]
  },
  {
   "cell_type": "code",
   "execution_count": 24,
   "metadata": {},
   "outputs": [
    {
     "name": "stdout",
     "output_type": "stream",
     "text": [
      "REAL MADRID SHOTS\n",
      "LAS PALMAS SHOTS\n"
     ]
    }
   ],
   "source": [
    "# local and away team names for the viz\n",
    "\n",
    "shots_local_name = local_team_name + ' ' + 'shots'\n",
    "shots_local_name = shots_local_name.upper()\n",
    "print(shots_local_name)\n",
    "\n",
    "shots_away_name = away_team_name + ' ' + 'shots'\n",
    "shots_away_name = shots_away_name.upper()\n",
    "print(shots_away_name)"
   ]
  },
  {
   "cell_type": "code",
   "execution_count": 25,
   "metadata": {},
   "outputs": [
    {
     "data": {
      "text/plain": [
       "str"
      ]
     },
     "execution_count": 25,
     "metadata": {},
     "output_type": "execute_result"
    }
   ],
   "source": [
    "# check type isOwnGoal | looks like a boolean\n",
    "\n",
    "type('isOwnGoal')"
   ]
  },
  {
   "cell_type": "code",
   "execution_count": 26,
   "metadata": {},
   "outputs": [
    {
     "data": {
      "text/plain": [
       "Index(['id', 'eventType', 'teamId', 'playerId', 'playerName', 'x', 'y', 'min',\n",
       "       'minAdded', 'isBlocked', 'isOnTarget', 'blockedX', 'blockedY',\n",
       "       'goalCrossedY', 'goalCrossedZ', 'expectedGoals',\n",
       "       'expectedGoalsOnTarget', 'shotType', 'situation', 'period', 'isOwnGoal',\n",
       "       'onGoalShot', 'isSavedOffLine', 'isFromInsideBox', 'keeperId',\n",
       "       'firstName', 'lastName', 'fullName', 'teamColor'],\n",
       "      dtype='object')"
      ]
     },
     "execution_count": 26,
     "metadata": {},
     "output_type": "execute_result"
    }
   ],
   "source": [
    "df_shots.columns"
   ]
  },
  {
   "cell_type": "code",
   "execution_count": 27,
   "metadata": {},
   "outputs": [
    {
     "data": {
      "text/html": [
       "<div>\n",
       "<style scoped>\n",
       "    .dataframe tbody tr th:only-of-type {\n",
       "        vertical-align: middle;\n",
       "    }\n",
       "\n",
       "    .dataframe tbody tr th {\n",
       "        vertical-align: top;\n",
       "    }\n",
       "\n",
       "    .dataframe thead th {\n",
       "        text-align: right;\n",
       "    }\n",
       "</style>\n",
       "<table border=\"1\" class=\"dataframe\">\n",
       "  <thead>\n",
       "    <tr style=\"text-align: right;\">\n",
       "      <th></th>\n",
       "      <th>keeperId</th>\n",
       "      <th>eventType</th>\n",
       "    </tr>\n",
       "  </thead>\n",
       "  <tbody>\n",
       "    <tr>\n",
       "      <th>0</th>\n",
       "      <td>170323.0</td>\n",
       "      <td>Goal</td>\n",
       "    </tr>\n",
       "    <tr>\n",
       "      <th>1</th>\n",
       "      <td>NaN</td>\n",
       "      <td>Miss</td>\n",
       "    </tr>\n",
       "    <tr>\n",
       "      <th>2</th>\n",
       "      <td>NaN</td>\n",
       "      <td>Miss</td>\n",
       "    </tr>\n",
       "    <tr>\n",
       "      <th>3</th>\n",
       "      <td>212512.0</td>\n",
       "      <td>AttemptSaved</td>\n",
       "    </tr>\n",
       "    <tr>\n",
       "      <th>4</th>\n",
       "      <td>NaN</td>\n",
       "      <td>AttemptSaved</td>\n",
       "    </tr>\n",
       "    <tr>\n",
       "      <th>5</th>\n",
       "      <td>212512.0</td>\n",
       "      <td>Goal</td>\n",
       "    </tr>\n",
       "    <tr>\n",
       "      <th>6</th>\n",
       "      <td>NaN</td>\n",
       "      <td>Miss</td>\n",
       "    </tr>\n",
       "    <tr>\n",
       "      <th>7</th>\n",
       "      <td>NaN</td>\n",
       "      <td>Miss</td>\n",
       "    </tr>\n",
       "    <tr>\n",
       "      <th>8</th>\n",
       "      <td>212512.0</td>\n",
       "      <td>AttemptSaved</td>\n",
       "    </tr>\n",
       "    <tr>\n",
       "      <th>9</th>\n",
       "      <td>212512.0</td>\n",
       "      <td>AttemptSaved</td>\n",
       "    </tr>\n",
       "    <tr>\n",
       "      <th>10</th>\n",
       "      <td>212512.0</td>\n",
       "      <td>AttemptSaved</td>\n",
       "    </tr>\n",
       "    <tr>\n",
       "      <th>11</th>\n",
       "      <td>NaN</td>\n",
       "      <td>Miss</td>\n",
       "    </tr>\n",
       "    <tr>\n",
       "      <th>12</th>\n",
       "      <td>212512.0</td>\n",
       "      <td>AttemptSaved</td>\n",
       "    </tr>\n",
       "    <tr>\n",
       "      <th>13</th>\n",
       "      <td>212512.0</td>\n",
       "      <td>Goal</td>\n",
       "    </tr>\n",
       "    <tr>\n",
       "      <th>14</th>\n",
       "      <td>212512.0</td>\n",
       "      <td>AttemptSaved</td>\n",
       "    </tr>\n",
       "    <tr>\n",
       "      <th>15</th>\n",
       "      <td>212512.0</td>\n",
       "      <td>Goal</td>\n",
       "    </tr>\n",
       "    <tr>\n",
       "      <th>16</th>\n",
       "      <td>NaN</td>\n",
       "      <td>AttemptSaved</td>\n",
       "    </tr>\n",
       "    <tr>\n",
       "      <th>17</th>\n",
       "      <td>NaN</td>\n",
       "      <td>Post</td>\n",
       "    </tr>\n",
       "    <tr>\n",
       "      <th>18</th>\n",
       "      <td>212512.0</td>\n",
       "      <td>AttemptSaved</td>\n",
       "    </tr>\n",
       "    <tr>\n",
       "      <th>19</th>\n",
       "      <td>NaN</td>\n",
       "      <td>Miss</td>\n",
       "    </tr>\n",
       "    <tr>\n",
       "      <th>20</th>\n",
       "      <td>NaN</td>\n",
       "      <td>Miss</td>\n",
       "    </tr>\n",
       "    <tr>\n",
       "      <th>21</th>\n",
       "      <td>212512.0</td>\n",
       "      <td>Goal</td>\n",
       "    </tr>\n",
       "    <tr>\n",
       "      <th>22</th>\n",
       "      <td>NaN</td>\n",
       "      <td>Miss</td>\n",
       "    </tr>\n",
       "    <tr>\n",
       "      <th>23</th>\n",
       "      <td>170323.0</td>\n",
       "      <td>AttemptSaved</td>\n",
       "    </tr>\n",
       "    <tr>\n",
       "      <th>24</th>\n",
       "      <td>NaN</td>\n",
       "      <td>AttemptSaved</td>\n",
       "    </tr>\n",
       "    <tr>\n",
       "      <th>25</th>\n",
       "      <td>212512.0</td>\n",
       "      <td>AttemptSaved</td>\n",
       "    </tr>\n",
       "    <tr>\n",
       "      <th>26</th>\n",
       "      <td>NaN</td>\n",
       "      <td>Miss</td>\n",
       "    </tr>\n",
       "    <tr>\n",
       "      <th>27</th>\n",
       "      <td>NaN</td>\n",
       "      <td>Miss</td>\n",
       "    </tr>\n",
       "    <tr>\n",
       "      <th>28</th>\n",
       "      <td>NaN</td>\n",
       "      <td>Miss</td>\n",
       "    </tr>\n",
       "    <tr>\n",
       "      <th>29</th>\n",
       "      <td>NaN</td>\n",
       "      <td>AttemptSaved</td>\n",
       "    </tr>\n",
       "    <tr>\n",
       "      <th>30</th>\n",
       "      <td>212512.0</td>\n",
       "      <td>AttemptSaved</td>\n",
       "    </tr>\n",
       "  </tbody>\n",
       "</table>\n",
       "</div>"
      ],
      "text/plain": [
       "    keeperId     eventType\n",
       "0   170323.0          Goal\n",
       "1        NaN          Miss\n",
       "2        NaN          Miss\n",
       "3   212512.0  AttemptSaved\n",
       "4        NaN  AttemptSaved\n",
       "5   212512.0          Goal\n",
       "6        NaN          Miss\n",
       "7        NaN          Miss\n",
       "8   212512.0  AttemptSaved\n",
       "9   212512.0  AttemptSaved\n",
       "10  212512.0  AttemptSaved\n",
       "11       NaN          Miss\n",
       "12  212512.0  AttemptSaved\n",
       "13  212512.0          Goal\n",
       "14  212512.0  AttemptSaved\n",
       "15  212512.0          Goal\n",
       "16       NaN  AttemptSaved\n",
       "17       NaN          Post\n",
       "18  212512.0  AttemptSaved\n",
       "19       NaN          Miss\n",
       "20       NaN          Miss\n",
       "21  212512.0          Goal\n",
       "22       NaN          Miss\n",
       "23  170323.0  AttemptSaved\n",
       "24       NaN  AttemptSaved\n",
       "25  212512.0  AttemptSaved\n",
       "26       NaN          Miss\n",
       "27       NaN          Miss\n",
       "28       NaN          Miss\n",
       "29       NaN  AttemptSaved\n",
       "30  212512.0  AttemptSaved"
      ]
     },
     "execution_count": 27,
     "metadata": {},
     "output_type": "execute_result"
    }
   ],
   "source": [
    "# keeperId\n",
    "\n",
    "df_shots[['keeperId', 'eventType']]"
   ]
  },
  {
   "cell_type": "code",
   "execution_count": 28,
   "metadata": {},
   "outputs": [
    {
     "data": {
      "text/plain": [
       "str"
      ]
     },
     "execution_count": 28,
     "metadata": {},
     "output_type": "execute_result"
    }
   ],
   "source": [
    "type('isOwnGoal')"
   ]
  },
  {
   "cell_type": "code",
   "execution_count": 29,
   "metadata": {},
   "outputs": [],
   "source": [
    "# Font -> Fonts are tricky since they have their \"brand fonts\" so we'll just use something similar\n",
    "import matplotlib.font_manager as font_manager\n",
    "font_path = '/home/axel/Code/Python/axel/files/fonts/Arvo/Arvo-Regular.ttf'\n",
    "# Create a font properties object with the font file\n",
    "font_props = font_manager.FontProperties(fname=font_path)"
   ]
  },
  {
   "cell_type": "code",
   "execution_count": 61,
   "metadata": {},
   "outputs": [
    {
     "name": "stdout",
     "output_type": "stream",
     "text": [
      "Home team color: #1A5DD4\n",
      "Away team color: #FFFFFF\n"
     ]
    }
   ],
   "source": [
    "home_color = json_fotmob['props']['pageProps']['general']['teamColors']['darkMode']['home']\n",
    "print(f\"Home team color: {home_color}\")\n",
    "\n",
    "away_color = json_fotmob['props']['pageProps']['general']['teamColors']['darkMode']['away']\n",
    "print(f\"Away team color: {away_color}\")"
   ]
  },
  {
   "cell_type": "code",
   "execution_count": 67,
   "metadata": {},
   "outputs": [
    {
     "name": "stdout",
     "output_type": "stream",
     "text": [
      "Home team color: #1A5DD4\n",
      "Away team color: #c90076\n"
     ]
    }
   ],
   "source": [
    "home_color = json_fotmob['props']['pageProps']['general']['teamColors']['darkMode']['home']\n",
    "if home_color.lower() == '#ffffff':\n",
    "    home_color = '#c90076'\n",
    "print(f\"Home team color: {home_color}\")\n",
    "\n",
    "away_color = json_fotmob['props']['pageProps']['general']['teamColors']['darkMode']['away']\n",
    "if away_color.lower() == '#ffffff':\n",
    "    away_color = '#c90076'\n",
    "print(f\"Away team color: {away_color}\")"
   ]
  },
  {
   "cell_type": "code",
   "execution_count": 30,
   "metadata": {},
   "outputs": [
    {
     "data": {
      "image/png": "[encoded data removed]",
      "text/plain": [
       "<Figure size 1600x1200 with 1 Axes>"
      ]
     },
     "metadata": {},
     "output_type": "display_data"
    }
   ],
   "source": [
    "# add facecolor='red' if you want the color red around the pitch\n",
    "fig, ax = plt.subplots(figsize=(16, 12))\n",
    "pitch = Pitch(pitch_type='custom', pitch_length=105, pitch_width=68, line_color='black', linewidth=1, pitch_color='white', label=False)\n",
    "pitch.draw(ax=ax)\n",
    "\n",
    "# plot the shots\n",
    "# We want the size of the shot to be 500 * the expected goals value\n",
    "# We also want to leave the marker empty if the shot was missed and fill it if it was a goal\n",
    "for x in df_shots.to_dict(orient='records'):\n",
    "    if x['teamId'] == local_team_id:\n",
    "        # We want to plot the local team on left side of the pitch\n",
    "        # So we need to mirror both the x and y coordinates\n",
    "        c_color = (\n",
    "            'green' if x['eventType'] == 'Goal' and str(x['isOwnGoal']) == 'False'\n",
    "            else 'red' if x['eventType'] == 'Goal' and str(x['isOwnGoal']) == 'True'\n",
    "            else 'white'\n",
    "        ),\n",
    "        ec_edge_colors = (\n",
    "            'green' if x['eventType'] == 'Goal' and str(x['isOwnGoal']) == 'False'\n",
    "            else 'red' if x['eventType'] == 'Goal' and str(x['isOwnGoal']) == 'True'\n",
    "            else 'purple'\n",
    "        ),\n",
    "        m_marker = (\n",
    "            '*' if x['situation'] == 'Penalty' and x['eventType'] == 'Goal'\n",
    "            else 'o'\n",
    "        )\n",
    "        pitch.scatter(\n",
    "            x=105-x['x'],\n",
    "            y=68-x['y'],\n",
    "            ax=ax,\n",
    "            s=500*x['expectedGoals'],\n",
    "            ec=ec_edge_colors,\n",
    "            c=c_color,\n",
    "            marker=m_marker,\n",
    "            alpha=1 if x['eventType'] == 'Goal' else 0.5,\n",
    "            zorder=2 if x['eventType'] == 'Goal' else 1\n",
    "        )\n",
    "    # right side\n",
    "    else:\n",
    "        c_color = (\n",
    "            'green' if x['eventType'] == 'Goal' and str(x['isOwnGoal']) == 'False'\n",
    "            else 'red' if x['eventType'] == 'Goal' and str(x['isOwnGoal']) == 'True'\n",
    "            else 'white'\n",
    "        ),\n",
    "        ec_edge_colors = (\n",
    "            'green' if x['eventType'] == 'Goal' and str(x['isOwnGoal']) == 'False'\n",
    "            else 'red' if x['eventType'] == 'Goal' and str(x['isOwnGoal']) == 'True'\n",
    "            else 'purple'\n",
    "        ),\n",
    "        m_marker = (\n",
    "            '*' if x['situation'] == 'Penalty' and x['eventType'] == 'Goal'\n",
    "            else 'o'\n",
    "        )\n",
    "        pitch.scatter(\n",
    "            x=x['x'],\n",
    "            y=x['y'],\n",
    "            ax=ax,\n",
    "            s=500*x['expectedGoals'],\n",
    "            ec=ec_edge_colors,\n",
    "            c=c_color,\n",
    "            marker=m_marker,\n",
    "            alpha=1 if x['eventType'] == 'Goal' else 0.5,\n",
    "            zorder=2 if x['eventType'] == 'Goal' else 1,\n",
    "        )\n",
    "\n",
    "# fig.suptitle('The Strongest - Bolivar',  fontsize=15, fontweight=600)\n",
    "# plt.title('Title', x=0.1, y=1)\n",
    "# ax.set_title('División Profesional', x=0.1, y=0.95, fontsize=10, fontweight=600, color='black', loc='left')\n",
    "\n",
    "# We can also add a title directly above the text we added\n",
    "ax.text(-2, 73, plot_title, ha='left', fontsize=28, fontfamily='serif', fontweight=600, color='black')\n",
    "ax.text(-2, 70, league_title, ha='left', fontsize=18, fontfamily='serif', fontweight=100)\n",
    "\n",
    "# We can add a title above the different halves of the pitch\n",
    "ax.text(2, 2, shots_local_name, ha='left', fontsize=20, fontweight=500, color='#abb2b9')\n",
    "ax.text(103, 2, shots_away_name, ha='right', fontsize=20, fontweight=500, color='#abb2b9')\n",
    "\n",
    "# Lets also add a legend for the size of the shots in the bottom middle of the pitch\n",
    "pitch.scatter(49.5, 3, s=500*.05, ec='black', c='white', ax=ax)\n",
    "pitch.scatter(52.5, 3, s=500*.15, ec='black', c='white', ax=ax)\n",
    "pitch.scatter(55.5, 3, s=500*.3, ec='black', c='white', ax=ax)\n",
    "\n",
    "# We can add a label for the legend\n",
    "ax.text(52.5, 5, 'Size represents xG', ha='center', fontsize=8, fontfamily='monospace')\n",
    "\n",
    "# Legend\n",
    "if 'True' in str(df_shots['isOwnGoal'].values):\n",
    "    pitch.scatter(29.3, -2, s=500*.2, ec='red', c='red', ax=ax)\n",
    "    ax.text(33, -2.4, 'Own Goal', ha='center', fontsize=8, fontfamily='monospace')\n",
    "\n",
    "pitch.scatter(37.2, -2, s=500*.2, ec='purple', c='white', ax=ax)\n",
    "ax.text(39.5, -2.4, 'Shot', ha='center', fontsize=8, fontfamily='monospace')\n",
    "\n",
    "pitch.scatter(42.5, -2, s=500*.2, ec='green', c='green', ax=ax)\n",
    "ax.text(44.8, -2.4, 'Goal', ha='center', fontsize=8, fontfamily='monospace')\n",
    "\n",
    "if 'Penalty' in df_shots['situation'].values and 'Goal' in df_shots['eventType'].values:\n",
    "    pitch.scatter(47.4, -2, s=500*.2, ec='green', c='green', marker='*', ax=ax)\n",
    "    ax.text(50.5, -2.4, 'Penalty', ha='center', fontsize=8, fontfamily='monospace')\n",
    "# info\n",
    "ax.text(60, -2, 'Data via Opta | @axel_bol', ha='left', fontsize=8, fontfamily='monospace')\n",
    "\n",
    "# match context\n",
    "# pitch.scatter(49.5, 3, s=500*.05, ec='black', c='white', ax=ax)\n",
    "# pitch.scatter(52.5, 3, s=500*.15, ec='black', c='white', ax=ax)\n",
    "# pitch.scatter(55.5, 3, s=500*.3, ec='black', c='white', ax=ax)\n",
    "\n",
    "ax.text(x=52.5, y=50, s='GOALS', ha='center', fontsize=25, fontproperties=font_props,fontweight=800, color='black')\n",
    "ax.text(x=39.5, y=50, s=local_team_score, ha='center', fontsize=25, fontproperties=font_props,fontweight=800, color=home_color)\n",
    "ax.text(x=65.5, y=50, s=away_team_score, ha='center', fontsize=25, fontproperties=font_props,fontweight=800, color=away_color)\n",
    "\n",
    "ax.text(x=52.5, y=44, s='xG', ha='center', fontsize=25, fontproperties=font_props,fontweight=800, color='black')\n",
    "ax.text(x=39.5, y=44, s=local_xG, ha='center', fontsize=25, fontproperties=font_props,fontweight=800, color=home_color)\n",
    "ax.text(x=65.5, y=44, s=away_xG, ha='center', fontsize=25, fontproperties=font_props,fontweight=800, color=away_color)\n",
    "\n",
    "ax.text(x=52.5, y=36, s='SHOTS', ha='center', fontsize=25, fontproperties=font_props,fontweight=800, color='black')\n",
    "ax.text(x=39.5, y=36, s=local_total_shots, ha='center', fontsize=25, fontproperties=font_props,fontweight=800, color=home_color)\n",
    "ax.text(x=65.5, y=36, s=away_total_shots, ha='center', fontsize=25, fontproperties=font_props,fontweight=800, color=away_color)\n",
    "\n",
    "ax.text(x=52.5, y=28, s='ON TARGET', ha='center', fontsize=25, fontproperties=font_props,fontweight=800, color='black')\n",
    "ax.text(x=39.5, y=28, s=local_shots_target, ha='center', fontsize=25, fontproperties=font_props,fontweight=800, color=home_color)\n",
    "ax.text(x=65.5, y=28, s=away_shots_target, ha='center', fontsize=25, fontproperties=font_props,fontweight=800, color=away_color)\n",
    "\n",
    "ax.text(x=52.5, y=20, s='POSESSION', ha='center', fontsize=25, fontproperties=font_props,fontweight=800, color='black')\n",
    "ax.text(x=39.5, y=20, s=f\"{local_ball_possesion}%\", ha='center', fontsize=25, fontproperties=font_props,fontweight=800, color=home_color)\n",
    "ax.text(x=65.5, y=20, s=f\"{away_ball_possesion}%\", ha='center', fontsize=25, fontproperties=font_props,fontweight=800, color=away_color)\n",
    "\n",
    "# CHANGE THIS TO YOUR PATH\n",
    "plt.savefig('/home/axel/Code/images/image.png', dpi=fig.dpi, bbox_inches='tight', pad_inches=0.35)\n",
    "\n",
    "plt.show()"
   ]
  }
 ],
 "metadata": {
  "kernelspec": {
   "display_name": "mplsoccer",
   "language": "python",
   "name": "python3"
  },
  "language_info": {
   "codemirror_mode": {
    "name": "ipython",
    "version": 3
   },
   "file_extension": ".py",
   "mimetype": "text/x-python",
   "name": "python",
   "nbconvert_exporter": "python",
   "pygments_lexer": "ipython3",
   "version": "3.12.4"
  }
 },
 "nbformat": 4,
 "nbformat_minor": 2
}
