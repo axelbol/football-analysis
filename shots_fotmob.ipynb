{
 "cells": [
  {
   "cell_type": "code",
   "execution_count": 1,
   "metadata": {},
   "outputs": [],
   "source": [
    "import requests\n",
    "import json\n",
    "from bs4 import BeautifulSoup as bs\n",
    "import pandas as pd\n",
    "import ast\n",
    "import matplotlib.pyplot as plt\n",
    "from mplsoccer.pitch import Pitch, VerticalPitch"
   ]
  },
  {
   "cell_type": "code",
   "execution_count": 2,
   "metadata": {},
   "outputs": [
    {
     "data": {
      "text/plain": [
       "'https://www.fotmob.com/es/matches/real-madrid-vs-atletico-madrid/2ubozo#4506819'"
      ]
     },
     "execution_count": 2,
     "metadata": {},
     "output_type": "execute_result"
    }
   ],
   "source": [
    "url_input = input('Enter URL match')\n",
    "url_input"
   ]
  },
  {
   "cell_type": "code",
   "execution_count": 3,
   "metadata": {},
   "outputs": [
    {
     "data": {
      "text/plain": [
       "'https://www.fotmob.com/es/matches/real-madrid-vs-atletico-madrid/2ubozo#4506819'"
      ]
     },
     "execution_count": 3,
     "metadata": {},
     "output_type": "execute_result"
    }
   ],
   "source": [
    "# check URL\n",
    "url_input"
   ]
  },
  {
   "cell_type": "code",
   "execution_count": 4,
   "metadata": {},
   "outputs": [
    {
     "data": {
      "text/html": [
       "<div>\n",
       "<style scoped>\n",
       "    .dataframe tbody tr th:only-of-type {\n",
       "        vertical-align: middle;\n",
       "    }\n",
       "\n",
       "    .dataframe tbody tr th {\n",
       "        vertical-align: top;\n",
       "    }\n",
       "\n",
       "    .dataframe thead th {\n",
       "        text-align: right;\n",
       "    }\n",
       "</style>\n",
       "<table border=\"1\" class=\"dataframe\">\n",
       "  <thead>\n",
       "    <tr style=\"text-align: right;\">\n",
       "      <th></th>\n",
       "      <th>id</th>\n",
       "      <th>eventType</th>\n",
       "      <th>teamId</th>\n",
       "      <th>playerId</th>\n",
       "      <th>playerName</th>\n",
       "      <th>x</th>\n",
       "      <th>y</th>\n",
       "      <th>min</th>\n",
       "      <th>minAdded</th>\n",
       "      <th>isBlocked</th>\n",
       "      <th>...</th>\n",
       "      <th>period</th>\n",
       "      <th>isOwnGoal</th>\n",
       "      <th>onGoalShot</th>\n",
       "      <th>isSavedOffLine</th>\n",
       "      <th>isFromInsideBox</th>\n",
       "      <th>firstName</th>\n",
       "      <th>lastName</th>\n",
       "      <th>fullName</th>\n",
       "      <th>teamColor</th>\n",
       "      <th>shortName</th>\n",
       "    </tr>\n",
       "  </thead>\n",
       "  <tbody>\n",
       "    <tr>\n",
       "      <th>0</th>\n",
       "      <td>2728346641</td>\n",
       "      <td>AttemptSaved</td>\n",
       "      <td>8633</td>\n",
       "      <td>1077894</td>\n",
       "      <td>Jude Bellingham</td>\n",
       "      <td>97.184211</td>\n",
       "      <td>30.292000</td>\n",
       "      <td>4</td>\n",
       "      <td>NaN</td>\n",
       "      <td>True</td>\n",
       "      <td>...</td>\n",
       "      <td>FirstHalf</td>\n",
       "      <td>False</td>\n",
       "      <td>{'x': 0.7982804232804226, 'y': 0.3227513211640...</td>\n",
       "      <td>False</td>\n",
       "      <td>True</td>\n",
       "      <td>Jude</td>\n",
       "      <td>Bellingham</td>\n",
       "      <td>Jude Bellingham</td>\n",
       "      <td>#085098</td>\n",
       "      <td>NaN</td>\n",
       "    </tr>\n",
       "    <tr>\n",
       "      <th>1</th>\n",
       "      <td>2728351047</td>\n",
       "      <td>AttemptSaved</td>\n",
       "      <td>9906</td>\n",
       "      <td>974753</td>\n",
       "      <td>Julián Álvarez</td>\n",
       "      <td>101.586207</td>\n",
       "      <td>46.593121</td>\n",
       "      <td>9</td>\n",
       "      <td>NaN</td>\n",
       "      <td>False</td>\n",
       "      <td>...</td>\n",
       "      <td>FirstHalf</td>\n",
       "      <td>False</td>\n",
       "      <td>{'x': 1.4236111111111112, 'y': 0.0220829851322...</td>\n",
       "      <td>False</td>\n",
       "      <td>True</td>\n",
       "      <td>Julián</td>\n",
       "      <td>Álvarez</td>\n",
       "      <td>Julián Álvarez</td>\n",
       "      <td>#C63527</td>\n",
       "      <td>NaN</td>\n",
       "    </tr>\n",
       "    <tr>\n",
       "      <th>2</th>\n",
       "      <td>2728359169</td>\n",
       "      <td>AttemptSaved</td>\n",
       "      <td>8633</td>\n",
       "      <td>743533</td>\n",
       "      <td>Federico Valverde</td>\n",
       "      <td>79.556796</td>\n",
       "      <td>24.349554</td>\n",
       "      <td>17</td>\n",
       "      <td>NaN</td>\n",
       "      <td>False</td>\n",
       "      <td>...</td>\n",
       "      <td>FirstHalf</td>\n",
       "      <td>False</td>\n",
       "      <td>{'x': 0.2738095238095226, 'y': 0.2582010569312...</td>\n",
       "      <td>False</td>\n",
       "      <td>False</td>\n",
       "      <td>Federico</td>\n",
       "      <td>Valverde</td>\n",
       "      <td>Federico Valverde</td>\n",
       "      <td>#085098</td>\n",
       "      <td>NaN</td>\n",
       "    </tr>\n",
       "    <tr>\n",
       "      <th>3</th>\n",
       "      <td>2728366767</td>\n",
       "      <td>AttemptSaved</td>\n",
       "      <td>9906</td>\n",
       "      <td>184138</td>\n",
       "      <td>Antoine Griezmann</td>\n",
       "      <td>84.512136</td>\n",
       "      <td>28.118810</td>\n",
       "      <td>25</td>\n",
       "      <td>NaN</td>\n",
       "      <td>True</td>\n",
       "      <td>...</td>\n",
       "      <td>FirstHalf</td>\n",
       "      <td>False</td>\n",
       "      <td>{'x': 1.1008597883597888, 'y': 0.3227513211640...</td>\n",
       "      <td>False</td>\n",
       "      <td>False</td>\n",
       "      <td>Antoine</td>\n",
       "      <td>Griezmann</td>\n",
       "      <td>Antoine Griezmann</td>\n",
       "      <td>#C63527</td>\n",
       "      <td>NaN</td>\n",
       "    </tr>\n",
       "    <tr>\n",
       "      <th>4</th>\n",
       "      <td>2728368289</td>\n",
       "      <td>Miss</td>\n",
       "      <td>8633</td>\n",
       "      <td>743533</td>\n",
       "      <td>Federico Valverde</td>\n",
       "      <td>75.502427</td>\n",
       "      <td>31.255000</td>\n",
       "      <td>27</td>\n",
       "      <td>NaN</td>\n",
       "      <td>False</td>\n",
       "      <td>...</td>\n",
       "      <td>FirstHalf</td>\n",
       "      <td>False</td>\n",
       "      <td>{'x': 2, 'y': 0.6362305594136604, 'zoomRatio':...</td>\n",
       "      <td>False</td>\n",
       "      <td>False</td>\n",
       "      <td>Federico</td>\n",
       "      <td>Valverde</td>\n",
       "      <td>Federico Valverde</td>\n",
       "      <td>#085098</td>\n",
       "      <td>NaN</td>\n",
       "    </tr>\n",
       "  </tbody>\n",
       "</table>\n",
       "<p>5 rows × 29 columns</p>\n",
       "</div>"
      ],
      "text/plain": [
       "           id     eventType  teamId  playerId         playerName           x  \\\n",
       "0  2728346641  AttemptSaved    8633   1077894    Jude Bellingham   97.184211   \n",
       "1  2728351047  AttemptSaved    9906    974753     Julián Álvarez  101.586207   \n",
       "2  2728359169  AttemptSaved    8633    743533  Federico Valverde   79.556796   \n",
       "3  2728366767  AttemptSaved    9906    184138  Antoine Griezmann   84.512136   \n",
       "4  2728368289          Miss    8633    743533  Federico Valverde   75.502427   \n",
       "\n",
       "           y  min  minAdded  isBlocked  ...     period  isOwnGoal  \\\n",
       "0  30.292000    4       NaN       True  ...  FirstHalf      False   \n",
       "1  46.593121    9       NaN      False  ...  FirstHalf      False   \n",
       "2  24.349554   17       NaN      False  ...  FirstHalf      False   \n",
       "3  28.118810   25       NaN       True  ...  FirstHalf      False   \n",
       "4  31.255000   27       NaN      False  ...  FirstHalf      False   \n",
       "\n",
       "                                          onGoalShot  isSavedOffLine  \\\n",
       "0  {'x': 0.7982804232804226, 'y': 0.3227513211640...           False   \n",
       "1  {'x': 1.4236111111111112, 'y': 0.0220829851322...           False   \n",
       "2  {'x': 0.2738095238095226, 'y': 0.2582010569312...           False   \n",
       "3  {'x': 1.1008597883597888, 'y': 0.3227513211640...           False   \n",
       "4  {'x': 2, 'y': 0.6362305594136604, 'zoomRatio':...           False   \n",
       "\n",
       "   isFromInsideBox  firstName    lastName           fullName teamColor  \\\n",
       "0             True       Jude  Bellingham    Jude Bellingham   #085098   \n",
       "1             True     Julián     Álvarez     Julián Álvarez   #C63527   \n",
       "2            False   Federico    Valverde  Federico Valverde   #085098   \n",
       "3            False    Antoine   Griezmann  Antoine Griezmann   #C63527   \n",
       "4            False   Federico    Valverde  Federico Valverde   #085098   \n",
       "\n",
       "  shortName  \n",
       "0       NaN  \n",
       "1       NaN  \n",
       "2       NaN  \n",
       "3       NaN  \n",
       "4       NaN  \n",
       "\n",
       "[5 rows x 29 columns]"
      ]
     },
     "execution_count": 4,
     "metadata": {},
     "output_type": "execute_result"
    }
   ],
   "source": [
    "# FotMob\n",
    "url = url_input\n",
    "\n",
    "r = requests.get(url)\n",
    "\n",
    "soup = bs(r.content)\n",
    "\n",
    "soup.find('script', attrs={'id': '__NEXT_DATA__'})\n",
    "\n",
    "soup.find('script', attrs={'id': '__NEXT_DATA__'}).contents\n",
    "\n",
    "soup.find('script', attrs={'id': '__NEXT_DATA__'}).contents[0]\n",
    "\n",
    "json.loads(soup.find('script', attrs={'id': '__NEXT_DATA__'}).contents[0])\n",
    "\n",
    "json_fotmob = json.loads(soup.find('script', attrs={'id': '__NEXT_DATA__'}).contents[0])\n",
    "\n",
    "df_shots = pd.DataFrame(json_fotmob['props']['pageProps']['content']['shotmap']['shots'])\n",
    "df_shots.head()"
   ]
  },
  {
   "cell_type": "code",
   "execution_count": 5,
   "metadata": {},
   "outputs": [
    {
     "data": {
      "text/html": [
       "<div>\n",
       "<style scoped>\n",
       "    .dataframe tbody tr th:only-of-type {\n",
       "        vertical-align: middle;\n",
       "    }\n",
       "\n",
       "    .dataframe tbody tr th {\n",
       "        vertical-align: top;\n",
       "    }\n",
       "\n",
       "    .dataframe thead th {\n",
       "        text-align: right;\n",
       "    }\n",
       "</style>\n",
       "<table border=\"1\" class=\"dataframe\">\n",
       "  <thead>\n",
       "    <tr style=\"text-align: right;\">\n",
       "      <th></th>\n",
       "      <th>eventType</th>\n",
       "      <th>expectedGoals</th>\n",
       "      <th>situation</th>\n",
       "      <th>isOwnGoal</th>\n",
       "    </tr>\n",
       "  </thead>\n",
       "  <tbody>\n",
       "    <tr>\n",
       "      <th>0</th>\n",
       "      <td>AttemptSaved</td>\n",
       "      <td>0.148064</td>\n",
       "      <td>RegularPlay</td>\n",
       "      <td>False</td>\n",
       "    </tr>\n",
       "    <tr>\n",
       "      <th>1</th>\n",
       "      <td>AttemptSaved</td>\n",
       "      <td>0.051524</td>\n",
       "      <td>RegularPlay</td>\n",
       "      <td>False</td>\n",
       "    </tr>\n",
       "    <tr>\n",
       "      <th>2</th>\n",
       "      <td>AttemptSaved</td>\n",
       "      <td>0.028383</td>\n",
       "      <td>RegularPlay</td>\n",
       "      <td>False</td>\n",
       "    </tr>\n",
       "    <tr>\n",
       "      <th>3</th>\n",
       "      <td>AttemptSaved</td>\n",
       "      <td>0.046836</td>\n",
       "      <td>RegularPlay</td>\n",
       "      <td>False</td>\n",
       "    </tr>\n",
       "    <tr>\n",
       "      <th>4</th>\n",
       "      <td>Miss</td>\n",
       "      <td>0.013824</td>\n",
       "      <td>SetPiece</td>\n",
       "      <td>False</td>\n",
       "    </tr>\n",
       "    <tr>\n",
       "      <th>5</th>\n",
       "      <td>AttemptSaved</td>\n",
       "      <td>0.039140</td>\n",
       "      <td>RegularPlay</td>\n",
       "      <td>False</td>\n",
       "    </tr>\n",
       "    <tr>\n",
       "      <th>6</th>\n",
       "      <td>AttemptSaved</td>\n",
       "      <td>0.238825</td>\n",
       "      <td>SetPiece</td>\n",
       "      <td>False</td>\n",
       "    </tr>\n",
       "    <tr>\n",
       "      <th>7</th>\n",
       "      <td>AttemptSaved</td>\n",
       "      <td>0.023334</td>\n",
       "      <td>FastBreak</td>\n",
       "      <td>False</td>\n",
       "    </tr>\n",
       "    <tr>\n",
       "      <th>8</th>\n",
       "      <td>AttemptSaved</td>\n",
       "      <td>0.054191</td>\n",
       "      <td>FromCorner</td>\n",
       "      <td>False</td>\n",
       "    </tr>\n",
       "    <tr>\n",
       "      <th>9</th>\n",
       "      <td>AttemptSaved</td>\n",
       "      <td>0.043681</td>\n",
       "      <td>FromCorner</td>\n",
       "      <td>False</td>\n",
       "    </tr>\n",
       "    <tr>\n",
       "      <th>10</th>\n",
       "      <td>AttemptSaved</td>\n",
       "      <td>0.016543</td>\n",
       "      <td>RegularPlay</td>\n",
       "      <td>False</td>\n",
       "    </tr>\n",
       "    <tr>\n",
       "      <th>11</th>\n",
       "      <td>Miss</td>\n",
       "      <td>0.048433</td>\n",
       "      <td>FromCorner</td>\n",
       "      <td>False</td>\n",
       "    </tr>\n",
       "    <tr>\n",
       "      <th>12</th>\n",
       "      <td>AttemptSaved</td>\n",
       "      <td>0.057222</td>\n",
       "      <td>RegularPlay</td>\n",
       "      <td>False</td>\n",
       "    </tr>\n",
       "    <tr>\n",
       "      <th>13</th>\n",
       "      <td>AttemptSaved</td>\n",
       "      <td>0.035031</td>\n",
       "      <td>RegularPlay</td>\n",
       "      <td>False</td>\n",
       "    </tr>\n",
       "    <tr>\n",
       "      <th>14</th>\n",
       "      <td>Goal</td>\n",
       "      <td>0.025457</td>\n",
       "      <td>SetPiece</td>\n",
       "      <td>False</td>\n",
       "    </tr>\n",
       "    <tr>\n",
       "      <th>15</th>\n",
       "      <td>AttemptSaved</td>\n",
       "      <td>0.033069</td>\n",
       "      <td>RegularPlay</td>\n",
       "      <td>False</td>\n",
       "    </tr>\n",
       "    <tr>\n",
       "      <th>16</th>\n",
       "      <td>AttemptSaved</td>\n",
       "      <td>0.064535</td>\n",
       "      <td>RegularPlay</td>\n",
       "      <td>False</td>\n",
       "    </tr>\n",
       "    <tr>\n",
       "      <th>17</th>\n",
       "      <td>Miss</td>\n",
       "      <td>0.016739</td>\n",
       "      <td>RegularPlay</td>\n",
       "      <td>False</td>\n",
       "    </tr>\n",
       "    <tr>\n",
       "      <th>18</th>\n",
       "      <td>AttemptSaved</td>\n",
       "      <td>0.031448</td>\n",
       "      <td>RegularPlay</td>\n",
       "      <td>False</td>\n",
       "    </tr>\n",
       "    <tr>\n",
       "      <th>19</th>\n",
       "      <td>AttemptSaved</td>\n",
       "      <td>0.144753</td>\n",
       "      <td>RegularPlay</td>\n",
       "      <td>False</td>\n",
       "    </tr>\n",
       "    <tr>\n",
       "      <th>20</th>\n",
       "      <td>Miss</td>\n",
       "      <td>0.049768</td>\n",
       "      <td>FastBreak</td>\n",
       "      <td>False</td>\n",
       "    </tr>\n",
       "    <tr>\n",
       "      <th>21</th>\n",
       "      <td>Miss</td>\n",
       "      <td>0.038313</td>\n",
       "      <td>FreeKick</td>\n",
       "      <td>False</td>\n",
       "    </tr>\n",
       "    <tr>\n",
       "      <th>22</th>\n",
       "      <td>Goal</td>\n",
       "      <td>0.745988</td>\n",
       "      <td>RegularPlay</td>\n",
       "      <td>False</td>\n",
       "    </tr>\n",
       "    <tr>\n",
       "      <th>23</th>\n",
       "      <td>Miss</td>\n",
       "      <td>0.057792</td>\n",
       "      <td>RegularPlay</td>\n",
       "      <td>False</td>\n",
       "    </tr>\n",
       "  </tbody>\n",
       "</table>\n",
       "</div>"
      ],
      "text/plain": [
       "       eventType  expectedGoals    situation  isOwnGoal\n",
       "0   AttemptSaved       0.148064  RegularPlay      False\n",
       "1   AttemptSaved       0.051524  RegularPlay      False\n",
       "2   AttemptSaved       0.028383  RegularPlay      False\n",
       "3   AttemptSaved       0.046836  RegularPlay      False\n",
       "4           Miss       0.013824     SetPiece      False\n",
       "5   AttemptSaved       0.039140  RegularPlay      False\n",
       "6   AttemptSaved       0.238825     SetPiece      False\n",
       "7   AttemptSaved       0.023334    FastBreak      False\n",
       "8   AttemptSaved       0.054191   FromCorner      False\n",
       "9   AttemptSaved       0.043681   FromCorner      False\n",
       "10  AttemptSaved       0.016543  RegularPlay      False\n",
       "11          Miss       0.048433   FromCorner      False\n",
       "12  AttemptSaved       0.057222  RegularPlay      False\n",
       "13  AttemptSaved       0.035031  RegularPlay      False\n",
       "14          Goal       0.025457     SetPiece      False\n",
       "15  AttemptSaved       0.033069  RegularPlay      False\n",
       "16  AttemptSaved       0.064535  RegularPlay      False\n",
       "17          Miss       0.016739  RegularPlay      False\n",
       "18  AttemptSaved       0.031448  RegularPlay      False\n",
       "19  AttemptSaved       0.144753  RegularPlay      False\n",
       "20          Miss       0.049768    FastBreak      False\n",
       "21          Miss       0.038313     FreeKick      False\n",
       "22          Goal       0.745988  RegularPlay      False\n",
       "23          Miss       0.057792  RegularPlay      False"
      ]
     },
     "execution_count": 5,
     "metadata": {},
     "output_type": "execute_result"
    }
   ],
   "source": [
    "# check if True in isOwnGoal\n",
    "df_shots[['eventType', 'expectedGoals', 'situation', 'isOwnGoal']]"
   ]
  },
  {
   "cell_type": "code",
   "execution_count": 6,
   "metadata": {},
   "outputs": [
    {
     "name": "stdout",
     "output_type": "stream",
     "text": [
      "False\n"
     ]
    }
   ],
   "source": [
    "# check if exists NaN in expectedGoals\n",
    "\n",
    "has_nan = df_shots['expectedGoals'].isna().any()\n",
    "print(has_nan)  # Returns True if there are NaN values, False otherwise\n",
    "\n",
    "# nan_count = df_shots['expectedGoals'].isna().sum()\n",
    "# print(nan_count)  # Returns the number of NaN values in the column\n",
    "\n",
    "# no_nan = df_shots['expectedGoals'].notna().all()\n",
    "# print(no_nan)  # Returns True if no NaN values are present\n",
    "\n",
    "# df_shots.info()"
   ]
  },
  {
   "cell_type": "code",
   "execution_count": 7,
   "metadata": {},
   "outputs": [
    {
     "data": {
      "text/html": [
       "<div>\n",
       "<style scoped>\n",
       "    .dataframe tbody tr th:only-of-type {\n",
       "        vertical-align: middle;\n",
       "    }\n",
       "\n",
       "    .dataframe tbody tr th {\n",
       "        vertical-align: top;\n",
       "    }\n",
       "\n",
       "    .dataframe thead th {\n",
       "        text-align: right;\n",
       "    }\n",
       "</style>\n",
       "<table border=\"1\" class=\"dataframe\">\n",
       "  <thead>\n",
       "    <tr style=\"text-align: right;\">\n",
       "      <th></th>\n",
       "      <th>eventType</th>\n",
       "      <th>expectedGoals</th>\n",
       "      <th>isOwnGoal</th>\n",
       "    </tr>\n",
       "  </thead>\n",
       "  <tbody>\n",
       "    <tr>\n",
       "      <th>0</th>\n",
       "      <td>AttemptSaved</td>\n",
       "      <td>0.148064</td>\n",
       "      <td>False</td>\n",
       "    </tr>\n",
       "    <tr>\n",
       "      <th>1</th>\n",
       "      <td>AttemptSaved</td>\n",
       "      <td>0.051524</td>\n",
       "      <td>False</td>\n",
       "    </tr>\n",
       "    <tr>\n",
       "      <th>2</th>\n",
       "      <td>AttemptSaved</td>\n",
       "      <td>0.028383</td>\n",
       "      <td>False</td>\n",
       "    </tr>\n",
       "    <tr>\n",
       "      <th>3</th>\n",
       "      <td>AttemptSaved</td>\n",
       "      <td>0.046836</td>\n",
       "      <td>False</td>\n",
       "    </tr>\n",
       "    <tr>\n",
       "      <th>4</th>\n",
       "      <td>Miss</td>\n",
       "      <td>0.013824</td>\n",
       "      <td>False</td>\n",
       "    </tr>\n",
       "    <tr>\n",
       "      <th>5</th>\n",
       "      <td>AttemptSaved</td>\n",
       "      <td>0.039140</td>\n",
       "      <td>False</td>\n",
       "    </tr>\n",
       "    <tr>\n",
       "      <th>6</th>\n",
       "      <td>AttemptSaved</td>\n",
       "      <td>0.238825</td>\n",
       "      <td>False</td>\n",
       "    </tr>\n",
       "    <tr>\n",
       "      <th>7</th>\n",
       "      <td>AttemptSaved</td>\n",
       "      <td>0.023334</td>\n",
       "      <td>False</td>\n",
       "    </tr>\n",
       "    <tr>\n",
       "      <th>8</th>\n",
       "      <td>AttemptSaved</td>\n",
       "      <td>0.054191</td>\n",
       "      <td>False</td>\n",
       "    </tr>\n",
       "    <tr>\n",
       "      <th>9</th>\n",
       "      <td>AttemptSaved</td>\n",
       "      <td>0.043681</td>\n",
       "      <td>False</td>\n",
       "    </tr>\n",
       "    <tr>\n",
       "      <th>10</th>\n",
       "      <td>AttemptSaved</td>\n",
       "      <td>0.016543</td>\n",
       "      <td>False</td>\n",
       "    </tr>\n",
       "    <tr>\n",
       "      <th>11</th>\n",
       "      <td>Miss</td>\n",
       "      <td>0.048433</td>\n",
       "      <td>False</td>\n",
       "    </tr>\n",
       "    <tr>\n",
       "      <th>12</th>\n",
       "      <td>AttemptSaved</td>\n",
       "      <td>0.057222</td>\n",
       "      <td>False</td>\n",
       "    </tr>\n",
       "    <tr>\n",
       "      <th>13</th>\n",
       "      <td>AttemptSaved</td>\n",
       "      <td>0.035031</td>\n",
       "      <td>False</td>\n",
       "    </tr>\n",
       "    <tr>\n",
       "      <th>14</th>\n",
       "      <td>Goal</td>\n",
       "      <td>0.025457</td>\n",
       "      <td>False</td>\n",
       "    </tr>\n",
       "    <tr>\n",
       "      <th>15</th>\n",
       "      <td>AttemptSaved</td>\n",
       "      <td>0.033069</td>\n",
       "      <td>False</td>\n",
       "    </tr>\n",
       "    <tr>\n",
       "      <th>16</th>\n",
       "      <td>AttemptSaved</td>\n",
       "      <td>0.064535</td>\n",
       "      <td>False</td>\n",
       "    </tr>\n",
       "    <tr>\n",
       "      <th>17</th>\n",
       "      <td>Miss</td>\n",
       "      <td>0.016739</td>\n",
       "      <td>False</td>\n",
       "    </tr>\n",
       "    <tr>\n",
       "      <th>18</th>\n",
       "      <td>AttemptSaved</td>\n",
       "      <td>0.031448</td>\n",
       "      <td>False</td>\n",
       "    </tr>\n",
       "    <tr>\n",
       "      <th>19</th>\n",
       "      <td>AttemptSaved</td>\n",
       "      <td>0.144753</td>\n",
       "      <td>False</td>\n",
       "    </tr>\n",
       "    <tr>\n",
       "      <th>20</th>\n",
       "      <td>Miss</td>\n",
       "      <td>0.049768</td>\n",
       "      <td>False</td>\n",
       "    </tr>\n",
       "    <tr>\n",
       "      <th>21</th>\n",
       "      <td>Miss</td>\n",
       "      <td>0.038313</td>\n",
       "      <td>False</td>\n",
       "    </tr>\n",
       "    <tr>\n",
       "      <th>22</th>\n",
       "      <td>Goal</td>\n",
       "      <td>0.745988</td>\n",
       "      <td>False</td>\n",
       "    </tr>\n",
       "    <tr>\n",
       "      <th>23</th>\n",
       "      <td>Miss</td>\n",
       "      <td>0.057792</td>\n",
       "      <td>False</td>\n",
       "    </tr>\n",
       "  </tbody>\n",
       "</table>\n",
       "</div>"
      ],
      "text/plain": [
       "       eventType  expectedGoals  isOwnGoal\n",
       "0   AttemptSaved       0.148064      False\n",
       "1   AttemptSaved       0.051524      False\n",
       "2   AttemptSaved       0.028383      False\n",
       "3   AttemptSaved       0.046836      False\n",
       "4           Miss       0.013824      False\n",
       "5   AttemptSaved       0.039140      False\n",
       "6   AttemptSaved       0.238825      False\n",
       "7   AttemptSaved       0.023334      False\n",
       "8   AttemptSaved       0.054191      False\n",
       "9   AttemptSaved       0.043681      False\n",
       "10  AttemptSaved       0.016543      False\n",
       "11          Miss       0.048433      False\n",
       "12  AttemptSaved       0.057222      False\n",
       "13  AttemptSaved       0.035031      False\n",
       "14          Goal       0.025457      False\n",
       "15  AttemptSaved       0.033069      False\n",
       "16  AttemptSaved       0.064535      False\n",
       "17          Miss       0.016739      False\n",
       "18  AttemptSaved       0.031448      False\n",
       "19  AttemptSaved       0.144753      False\n",
       "20          Miss       0.049768      False\n",
       "21          Miss       0.038313      False\n",
       "22          Goal       0.745988      False\n",
       "23          Miss       0.057792      False"
      ]
     },
     "execution_count": 7,
     "metadata": {},
     "output_type": "execute_result"
    }
   ],
   "source": [
    "df_shots[['eventType', 'expectedGoals', 'isOwnGoal']]"
   ]
  },
  {
   "cell_type": "code",
   "execution_count": 8,
   "metadata": {},
   "outputs": [
    {
     "data": {
      "text/plain": [
       "0     0.148064\n",
       "1     0.051524\n",
       "2     0.028383\n",
       "3     0.046836\n",
       "4     0.013824\n",
       "5     0.039140\n",
       "6     0.238825\n",
       "7     0.023334\n",
       "8     0.054191\n",
       "9     0.043681\n",
       "10    0.016543\n",
       "11    0.048433\n",
       "12    0.057222\n",
       "13    0.035031\n",
       "14    0.025457\n",
       "15    0.033069\n",
       "16    0.064535\n",
       "17    0.016739\n",
       "18    0.031448\n",
       "19    0.144753\n",
       "20    0.049768\n",
       "21    0.038313\n",
       "22    0.745988\n",
       "23    0.057792\n",
       "Name: expectedGoals, dtype: float64"
      ]
     },
     "execution_count": 8,
     "metadata": {},
     "output_type": "execute_result"
    }
   ],
   "source": [
    "# If you want to convert it to a LIST add .tolist()\n",
    "\n",
    "# xG = df_shots['expectedGoals']\n",
    "# xG_list = xG.tolist()\n",
    "# xG_list\n",
    "\n",
    "# xG=df_shots.expectedGoals\n",
    "# xG\n",
    "\n",
    "# xG_loc = df_shots.loc[:, 'expectedGoals']\n",
    "# xG_loc\n",
    "\n",
    "xG_get = df_shots.get('expectedGoals')\n",
    "xG_get\n",
    "\n",
    "# Using .iloc[]: If you know the position of the name column (e.g., if it's the first column):\n",
    "# column_position = df_shots.columns.get_loc('expectedGoals')\n",
    "\n",
    "# column_position\n",
    "# xG_iloc = df_shots.iloc[:, 15]\n",
    "# xG_iloc"
   ]
  },
  {
   "cell_type": "code",
   "execution_count": 5,
   "metadata": {},
   "outputs": [
    {
     "name": "stderr",
     "output_type": "stream",
     "text": [
      "/tmp/ipykernel_39951/3470650161.py:8: FutureWarning: A value is trying to be set on a copy of a DataFrame or Series through chained assignment using an inplace method.\n",
      "The behavior will change in pandas 3.0. This inplace method will never work because the intermediate object on which we are setting values always behaves as a copy.\n",
      "\n",
      "For example, when doing 'df[col].method(value, inplace=True)', try using 'df.method({col: value}, inplace=True)' or df[col] = df[col].method(value) instead, to perform the operation inplace on the original object.\n",
      "\n",
      "\n",
      "  df_shots['expectedGoals'].fillna(df_shots['expectedGoals'].median(), inplace=True)\n"
     ]
    }
   ],
   "source": [
    "# Replace NaN with 0\n",
    "# df_shots['expectedGoals'].fillna(0, inplace=True)\n",
    "\n",
    "# Replace with the mean of the column:\n",
    "# df_shots['expectedGoals'].fillna(df_shots['expectedGoals'].mean(), inplace=True)\n",
    "\n",
    "# Replace with the median of the column:\n",
    "df_shots['expectedGoals'].fillna(df_shots['expectedGoals'].median(), inplace=True)\n"
   ]
  },
  {
   "cell_type": "code",
   "execution_count": 13,
   "metadata": {},
   "outputs": [
    {
     "data": {
      "text/plain": [
       "9906"
      ]
     },
     "execution_count": 13,
     "metadata": {},
     "output_type": "execute_result"
    }
   ],
   "source": [
    "# get local team id\n",
    "local_team_id = json_fotmob['props']['pageProps']['general']['homeTeam']['id']\n",
    "local_team_id"
   ]
  },
  {
   "cell_type": "code",
   "execution_count": 14,
   "metadata": {},
   "outputs": [
    {
     "data": {
      "text/plain": [
       "{'matchId': '4506819',\n",
       " 'matchName': 'Atletico Madrid-vs-Real Madrid_Sun, Sep 29, 2024, 19:00 UTC',\n",
       " 'matchRound': '8',\n",
       " 'teamColors': {'darkMode': {'home': '#C63527', 'away': '#ffffff'},\n",
       "  'lightMode': {'home': '#C63527', 'away': '#085098'},\n",
       "  'fontDarkMode': {'home': 'rgba(255, 255, 255, 1.0)',\n",
       "   'away': 'rgba(29, 29, 29, 1.0)'},\n",
       "  'fontLightMode': {'home': 'rgba(255, 255, 255, 1.0)',\n",
       "   'away': 'rgba(255, 255, 255, 1.0)'}},\n",
       " 'leagueId': 87,\n",
       " 'leagueName': 'LaLiga',\n",
       " 'leagueRoundName': 'Round 8',\n",
       " 'parentLeagueId': 87,\n",
       " 'countryCode': 'ESP',\n",
       " 'parentLeagueName': 'LaLiga',\n",
       " 'parentLeagueSeason': '2024/2025',\n",
       " 'parentLeagueTopScorerLink': 'https://data.fotmob.com/stats/87/season/23686/goals.json',\n",
       " 'homeTeam': {'name': 'Atletico Madrid', 'id': 9906},\n",
       " 'awayTeam': {'name': 'Real Madrid', 'id': 8633},\n",
       " 'coverageLevel': 'xG',\n",
       " 'matchTimeUTC': 'Sun, Sep 29, 2024, 19:00 UTC',\n",
       " 'matchTimeUTCDate': '2024-09-29T19:00:00.000Z',\n",
       " 'started': True,\n",
       " 'finished': True}"
      ]
     },
     "execution_count": 14,
     "metadata": {},
     "output_type": "execute_result"
    }
   ],
   "source": [
    "# get general data\n",
    "json_fotmob['props']['pageProps']['general']"
   ]
  },
  {
   "cell_type": "code",
   "execution_count": 15,
   "metadata": {},
   "outputs": [
    {
     "name": "stdout",
     "output_type": "stream",
     "text": [
      "LaLiga\n",
      "Round 8\n"
     ]
    }
   ],
   "source": [
    "# get league name and league round for the viz\n",
    "leagueName = json_fotmob['props']['pageProps']['general']['leagueName']\n",
    "print(leagueName)\n",
    "leagueRound = json_fotmob['props']['pageProps']['general']['leagueRoundName']\n",
    "print(leagueRound)"
   ]
  },
  {
   "cell_type": "code",
   "execution_count": 16,
   "metadata": {},
   "outputs": [
    {
     "data": {
      "text/plain": [
       "'LaLiga | Round 8'"
      ]
     },
     "execution_count": 16,
     "metadata": {},
     "output_type": "execute_result"
    }
   ],
   "source": [
    "league_title = leagueName + ' | ' + leagueRound\n",
    "league_title"
   ]
  },
  {
   "cell_type": "code",
   "execution_count": 17,
   "metadata": {},
   "outputs": [
    {
     "data": {
      "text/plain": [
       "[{'name': 'Atletico Madrid',\n",
       "  'id': 9906,\n",
       "  'score': 1,\n",
       "  'imageUrl': 'https://images.fotmob.com/image_resources/logo/teamlogo/9906_small.png',\n",
       "  'pageUrl': '/teams/9906/overview/atletico-madrid',\n",
       "  'fifaRank': None},\n",
       " {'name': 'Real Madrid',\n",
       "  'id': 8633,\n",
       "  'score': 1,\n",
       "  'imageUrl': 'https://images.fotmob.com/image_resources/logo/teamlogo/8633_small.png',\n",
       "  'pageUrl': '/teams/8633/overview/real-madrid',\n",
       "  'fifaRank': None}]"
      ]
     },
     "execution_count": 17,
     "metadata": {},
     "output_type": "execute_result"
    }
   ],
   "source": [
    "# local team info and away team info\n",
    "json_fotmob['props']['pageProps']['header']['teams']"
   ]
  },
  {
   "cell_type": "code",
   "execution_count": 18,
   "metadata": {},
   "outputs": [
    {
     "name": "stdout",
     "output_type": "stream",
     "text": [
      "Atletico Madrid\n",
      "Real Madrid\n"
     ]
    }
   ],
   "source": [
    "# Get ID and team names\n",
    "local_team_name = json_fotmob['props']['pageProps']['header']['teams'][0]['name']\n",
    "print(local_team_name)\n",
    "away_team_name = json_fotmob['props']['pageProps']['header']['teams'][1]['name']\n",
    "print(away_team_name)"
   ]
  },
  {
   "cell_type": "code",
   "execution_count": 19,
   "metadata": {},
   "outputs": [
    {
     "name": "stdout",
     "output_type": "stream",
     "text": [
      "1\n",
      "1\n"
     ]
    }
   ],
   "source": [
    "# score\n",
    "local_team_score = json_fotmob['props']['pageProps']['header']['teams'][0]['score']\n",
    "print(local_team_score)\n",
    "away_team_score = json_fotmob['props']['pageProps']['header']['teams'][1]['score']\n",
    "print(away_team_score)"
   ]
  },
  {
   "cell_type": "code",
   "execution_count": 20,
   "metadata": {},
   "outputs": [
    {
     "data": {
      "text/plain": [
       "'Atletico Madrid 1-1 Real Madrid'"
      ]
     },
     "execution_count": 20,
     "metadata": {},
     "output_type": "execute_result"
    }
   ],
   "source": [
    "# title for the viz\n",
    "plot_title = local_team_name + ' ' + str(local_team_score) + '-' + str(away_team_score) + ' ' + away_team_name\n",
    "plot_title"
   ]
  },
  {
   "cell_type": "code",
   "execution_count": 15,
   "metadata": {},
   "outputs": [
    {
     "data": {
      "text/plain": [
       "{'darkMode': {'home': '#FFFFFF', 'away': '#6f3c9c'},\n",
       " 'lightMode': {'home': '#C90F20', 'away': '#63257E'},\n",
       " 'fontDarkMode': {'home': 'rgba(29, 29, 29, 1.0)',\n",
       "  'away': 'rgba(255, 255, 255, 1.0)'},\n",
       " 'fontLightMode': {'home': 'rgba(255, 255, 255, 1.0)',\n",
       "  'away': 'rgba(255, 255, 255, 1.0)'}}"
      ]
     },
     "execution_count": 15,
     "metadata": {},
     "output_type": "execute_result"
    }
   ],
   "source": [
    "# Get color teams\n",
    "json_fotmob['props']['pageProps']['general']['teamColors']"
   ]
  },
  {
   "cell_type": "code",
   "execution_count": 21,
   "metadata": {},
   "outputs": [
    {
     "name": "stdout",
     "output_type": "stream",
     "text": [
      "ATLETICO MADRID SHOTS\n",
      "REAL MADRID SHOTS\n"
     ]
    }
   ],
   "source": [
    "# local and away team names for the viz\n",
    "shots_local_name = local_team_name + ' ' + 'shots'\n",
    "shots_local_name = shots_local_name.upper()\n",
    "print(shots_local_name)\n",
    "\n",
    "shots_away_name = away_team_name + ' ' + 'shots'\n",
    "shots_away_name = shots_away_name.upper()\n",
    "print(shots_away_name)"
   ]
  },
  {
   "cell_type": "code",
   "execution_count": 22,
   "metadata": {},
   "outputs": [
    {
     "data": {
      "text/plain": [
       "str"
      ]
     },
     "execution_count": 22,
     "metadata": {},
     "output_type": "execute_result"
    }
   ],
   "source": [
    "# check type isOwnGoal | looks like a boolean\n",
    "type('isOwnGoal')"
   ]
  },
  {
   "cell_type": "code",
   "execution_count": 86,
   "metadata": {},
   "outputs": [
    {
     "data": {
      "text/plain": [
       "Index(['id', 'eventType', 'teamId', 'playerId', 'playerName', 'x', 'y', 'min',\n",
       "       'minAdded', 'isBlocked', 'isOnTarget', 'blockedX', 'blockedY',\n",
       "       'goalCrossedY', 'goalCrossedZ', 'expectedGoals',\n",
       "       'expectedGoalsOnTarget', 'shotType', 'situation', 'period', 'isOwnGoal',\n",
       "       'onGoalShot', 'isSavedOffLine', 'isFromInsideBox', 'firstName',\n",
       "       'lastName', 'fullName', 'teamColor'],\n",
       "      dtype='object')"
      ]
     },
     "execution_count": 86,
     "metadata": {},
     "output_type": "execute_result"
    }
   ],
   "source": [
    "df_shots.columns"
   ]
  },
  {
   "cell_type": "code",
   "execution_count": 29,
   "metadata": {},
   "outputs": [
    {
     "data": {
      "text/plain": [
       "str"
      ]
     },
     "execution_count": 29,
     "metadata": {},
     "output_type": "execute_result"
    }
   ],
   "source": [
    "type('isOwnGoal')"
   ]
  },
  {
   "cell_type": "code",
   "execution_count": 25,
   "metadata": {},
   "outputs": [
    {
     "data": {
      "image/png": "[encoded data removed]",
      "text/plain": [
       "<Figure size 1600x1200 with 1 Axes>"
      ]
     },
     "metadata": {},
     "output_type": "display_data"
    }
   ],
   "source": [
    "# add facecolor='red' if you want the color red around the pitch\n",
    "fig, ax = plt.subplots(figsize=(16, 12))\n",
    "pitch = Pitch(pitch_type='custom', pitch_length=105, pitch_width=68, line_color='black', linewidth=1, pitch_color='white', label=False)\n",
    "pitch.draw(ax=ax)\n",
    "\n",
    "# plot the shots\n",
    "# We want the size of the shot to be 500 * the expected goals value\n",
    "# We also want to leave the marker empty if the shot was missed and fill it if it was a goal\n",
    "for x in df_shots.to_dict(orient='records'):\n",
    "    if x['teamId'] == local_team_id:\n",
    "        # We want to plot the local team on right side of the pitch\n",
    "        # So we need to mirror both the x and y coordinates\n",
    "        c_color = (\n",
    "            'green' if x['eventType'] == 'Goal' and str(x['isOwnGoal']) == 'False'\n",
    "            else 'red' if x['eventType'] == 'Goal' and str(x['isOwnGoal']) == 'True'\n",
    "            else 'white'\n",
    "        ),\n",
    "        ec_edge_colors = (\n",
    "            'green' if x['eventType'] == 'Goal' and str(x['isOwnGoal']) == 'False'\n",
    "            else 'red' if x['eventType'] == 'Goal' and str(x['isOwnGoal']) == 'True'\n",
    "            else 'purple'\n",
    "        )\n",
    "        pitch.scatter(\n",
    "            x=105-x['x'],\n",
    "            y=68-x['y'],\n",
    "            ax=ax,\n",
    "            s=500*x['expectedGoals'],\n",
    "            ec=ec_edge_colors,\n",
    "            c=c_color,\n",
    "            # alpha=1 if x['eventType'] == 'Goal' else 0.5,\n",
    "            zorder=2 if x['eventType'] == 'Goal' else 1\n",
    "        )\n",
    "    # left side\n",
    "    else:\n",
    "        c_color = (\n",
    "            'green' if x['eventType'] == 'Goal' and str(x['isOwnGoal']) == 'False'\n",
    "            else 'red' if x['eventType'] == 'Goal' and str(x['isOwnGoal']) == 'True'\n",
    "            else 'white'\n",
    "        ),\n",
    "        ec_edge_colors = (\n",
    "            'green' if x['eventType'] == 'Goal' and str(x['isOwnGoal']) == 'False'\n",
    "            else 'red' if x['eventType'] == 'Goal' and str(x['isOwnGoal']) == 'True'\n",
    "            else 'purple'\n",
    "        )\n",
    "        pitch.scatter(\n",
    "            x=x['x'],\n",
    "            y=x['y'],\n",
    "            ax=ax,\n",
    "            s=500*x['expectedGoals'],\n",
    "            ec=ec_edge_colors,\n",
    "            c=c_color,\n",
    "            # alpha=1 if x['eventType'] == 'Goal' else .5,\n",
    "            zorder=2 if x['eventType'] == 'Goal' else 1\n",
    "        )\n",
    "\n",
    "# fig.suptitle('The Strongest - Bolivar',  fontsize=15, fontweight=600)\n",
    "# plt.title('Title', x=0.1, y=1)\n",
    "# ax.set_title('División Profesional', x=0.1, y=0.95, fontsize=10, fontweight=600, color='black', loc='left')\n",
    "\n",
    "# We can also add a title directly above the text we added\n",
    "ax.text(-2, 73, plot_title, ha='left', fontsize=28, fontfamily='serif', fontweight=600, color='black')\n",
    "ax.text(-2, 70, league_title, ha='left', fontsize=18, fontfamily='serif', fontweight=100)\n",
    "\n",
    "# We can add a title above the different halves of the pitch\n",
    "ax.text(2, 2, shots_local_name, ha='left', fontsize=20, fontweight=500, color='#abb2b9')\n",
    "ax.text(103, 2, shots_away_name, ha='right', fontsize=20, fontweight=500, color='#abb2b9')\n",
    "\n",
    "# Lets also add a legend for the size of the shots in the bottom middle of the pitch\n",
    "pitch.scatter(49.5, 3, s=500*.05, ec='black', c='white', ax=ax)\n",
    "pitch.scatter(52.5, 3, s=500*.15, ec='black', c='white', ax=ax)\n",
    "pitch.scatter(55.5, 3, s=500*.3, ec='black', c='white', ax=ax)\n",
    "# We can add a label for the legend\n",
    "ax.text(52.5, 5, 'Size represents xG', ha='center', fontsize=8, fontfamily='monospace')\n",
    "# Legend\n",
    "if 'True' in str(df_shots['isOwnGoal'].values):\n",
    "    pitch.scatter(29.3, -2, s=500*.2, ec='red', c='red', ax=ax)\n",
    "    ax.text(33, -2.4, 'Own Goal', ha='center', fontsize=8, fontfamily='monospace')\n",
    "pitch.scatter(37.2, -2, s=500*.2, ec='purple', c='white', ax=ax)\n",
    "ax.text(39.5, -2.4, 'Shot', ha='center', fontsize=8, fontfamily='monospace')\n",
    "pitch.scatter(42.5, -2, s=500*.2, ec='green', c='green', ax=ax)\n",
    "ax.text(44.8, -2.4, 'Goal', ha='center', fontsize=8, fontfamily='monospace')\n",
    "# info\n",
    "ax.text(60, -2, 'Data via Opta | @axel_bol', ha='left', fontsize=8, fontfamily='monospace')\n",
    "plt.savefig('/home/axel/Code/images/image1.png', dpi=fig.dpi, bbox_inches='tight', pad_inches=0.35)\n",
    "\n",
    "plt.show()"
   ]
  }
 ],
 "metadata": {
  "kernelspec": {
   "display_name": "mplsoccer",
   "language": "python",
   "name": "python3"
  },
  "language_info": {
   "codemirror_mode": {
    "name": "ipython",
    "version": 3
   },
   "file_extension": ".py",
   "mimetype": "text/x-python",
   "name": "python",
   "nbconvert_exporter": "python",
   "pygments_lexer": "ipython3",
   "version": "3.12.4"
  }
 },
 "nbformat": 4,
 "nbformat_minor": 2
}
