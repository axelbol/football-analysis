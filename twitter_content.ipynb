{
 "cells": [
  {
   "cell_type": "code",
   "execution_count": 2,
   "metadata": {},
   "outputs": [],
   "source": [
    "import pandas as pd\n",
    "import matplotlib.pyplot as plt\n",
    "import bs4\n",
    "import requests\n",
    "from io import StringIO"
   ]
  },
  {
   "cell_type": "code",
   "execution_count": null,
   "metadata": {},
   "outputs": [],
   "source": [
    "df_possession_pride = pd.read_html('https://fbref.com/en/matches/f168f5b1/Orlando-Pride-Washington-Spirit-November-23-2024-NWSL', attrs={'id':'stats_2a6178ac_possession'})[0]"
   ]
  },
  {
   "cell_type": "code",
   "execution_count": 3,
   "metadata": {},
   "outputs": [
    {
     "name": "stderr",
     "output_type": "stream",
     "text": [
      "/tmp/ipykernel_3278/3705642280.py:8: MarkupResemblesLocatorWarning: The input looks more like a filename than markup. You may want to open this file and pass the filehandle into Beautiful Soup.\n",
      "  commented_out_tables = [bs4.BeautifulSoup(cmt, 'html.parser').find_all('table') for cmt in comments]\n"
     ]
    }
   ],
   "source": [
    "# In this case the table is commented out\n",
    "# fetch the web page content\n",
    "response = requests.get('https://fbref.com/en/comps/61/stats/Primera-Division-Stats')\n",
    "soup = bs4.BeautifulSoup(response.content, 'html.parser')\n",
    "\n",
    "# find all comments\n",
    "comments = soup.find_all(string=lambda text:isinstance(text, bs4.Comment))\n",
    "commented_out_tables = [bs4.BeautifulSoup(cmt, 'html.parser').find_all('table') for cmt in comments]\n",
    "\n",
    "# filter to keep only single tables\n",
    "commented_out_tables = [tab[0] for tab in commented_out_tables if len(tab) == 1]\n",
    "\n",
    "# convert the table to a DF\n",
    "df_liga_par = pd.read_html(StringIO(str(commented_out_tables[0])))[0]"
   ]
  },
  {
   "cell_type": "code",
   "execution_count": 9,
   "metadata": {},
   "outputs": [
    {
     "data": {
      "text/plain": [
       "MultiIndex([( 'Unnamed: 0_level_0',      'Rk'),\n",
       "            ( 'Unnamed: 1_level_0',  'Player'),\n",
       "            ( 'Unnamed: 2_level_0',  'Nation'),\n",
       "            ( 'Unnamed: 3_level_0',     'Pos'),\n",
       "            ( 'Unnamed: 4_level_0',   'Squad'),\n",
       "            ( 'Unnamed: 5_level_0',     'Age'),\n",
       "            ( 'Unnamed: 6_level_0',    'Born'),\n",
       "            (       'Playing Time',      'MP'),\n",
       "            (       'Playing Time',  'Starts'),\n",
       "            (       'Playing Time',     'Min'),\n",
       "            (       'Playing Time',     '90s'),\n",
       "            (        'Performance',     'Gls'),\n",
       "            (        'Performance',     'Ast'),\n",
       "            (        'Performance',     'G+A'),\n",
       "            (        'Performance',    'G-PK'),\n",
       "            (        'Performance',      'PK'),\n",
       "            (        'Performance',   'PKatt'),\n",
       "            (        'Performance',    'CrdY'),\n",
       "            (        'Performance',    'CrdR'),\n",
       "            (     'Per 90 Minutes',     'Gls'),\n",
       "            (     'Per 90 Minutes',     'Ast'),\n",
       "            (     'Per 90 Minutes',     'G+A'),\n",
       "            (     'Per 90 Minutes',    'G-PK'),\n",
       "            (     'Per 90 Minutes',  'G+A-PK'),\n",
       "            ('Unnamed: 24_level_0', 'Matches')],\n",
       "           )"
      ]
     },
     "execution_count": 9,
     "metadata": {},
     "output_type": "execute_result"
    }
   ],
   "source": [
    "df_liga_par.columns"
   ]
  }
 ],
 "metadata": {
  "kernelspec": {
   "display_name": "mplsoccer",
   "language": "python",
   "name": "python3"
  },
  "language_info": {
   "codemirror_mode": {
    "name": "ipython",
    "version": 3
   },
   "file_extension": ".py",
   "mimetype": "text/x-python",
   "name": "python",
   "nbconvert_exporter": "python",
   "pygments_lexer": "ipython3",
   "version": "3.12.4"
  }
 },
 "nbformat": 4,
 "nbformat_minor": 2
}
